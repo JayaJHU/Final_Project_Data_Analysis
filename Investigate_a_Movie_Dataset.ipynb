{
 "cells": [
  {
   "cell_type": "markdown",
   "metadata": {},
   "source": [
    "\n",
    "# Project: Investigate The Movie Database(TMDb)\n",
    "\n",
    "## Table of Contents\n",
    "<ul>\n",
    "<li><a href=\"#intro\">Introduction</a></li>\n",
    "<li><a href=\"#wrangling\">Data Wrangling</a></li>\n",
    "<li><a href=\"#eda\">Exploratory Data Analysis</a></li>\n",
    "<li><a href=\"#conclusions\">Conclusions</a></li>\n",
    "</ul>"
   ]
  },
  {
   "cell_type": "markdown",
   "metadata": {},
   "source": [
    "<a id='intro'></a>\n",
    "## Introduction and Analysis of Movies Data\n",
    "\n",
    "> In this data analysis study, I am analyzing the TMDb movie dataset. This data set contians information about 10,000 movies collected from the The Movie Database(TMDb).  The TMDb movie data is cleaned from original data on Kaggle. This dataset provides information on various movies released from 1966 to 2015.  This movie dataset includes information such as the user ratings, budget, revenue, production companies, directors, vote average, popularity and much more.\n",
    "\n",
    "> My goal for this project is to perform, data cleaning, data wrangling, exploratary data analysis and derive some insights from this dataset. In order to achieve this goal, I need to do a few steps.  They are as follows:\n",
    "\n",
    "> Step 1 - I look through the comma separated values(CVS) data that is in an Excel format.  I analyze this Excel sheet to see what variables are present.  In addition, I am also familiarizing and getting acquinted with the Excel dataset.\n",
    "\n",
    "> Step 2 -  I load the necessary Python libraries such as Pandas, Numpys and others on Jupyter Notebook so we can read the data.  I take the raw comma separated values(.cvs) data and load(import) the data on to Jupyter Notebook. Jupyter Notebook will convert the data into a pandas dataframe object. \n",
    "\n",
    "> Step 3 - I analyze the structure of the dataset. I perform some data cleaning and data wrangling.\n",
    "\n",
    "> Step 4 - I derive several questions on the given dataset.  Please see section on \"Questions on Dataset\" \n",
    "\n",
    "> Step 5 - I perform exploratory data analysis to see if there are patterns and trends based on the questions I have. One way to see the trends associated with the data is to visualize it through various graphical plots and statistics.\n",
    "\n",
    "> Step 6 - I provide conclusions and limitation on the dataset."
   ]
  },
  {
   "cell_type": "markdown",
   "metadata": {},
   "source": [
    "# Questions on Dataset"
   ]
  },
  {
   "cell_type": "markdown",
   "metadata": {},
   "source": [
    "These questions I have about the TmDB dataset.  They are as follows:\n",
    "\n",
    "1.  What is the pattern for movie production year over year?\n",
    "2.  Which genre was the most popular?\n",
    "3.  What are the top 10 movies with the highest revenue?\n",
    "4.  Does vote average ratings affect profits?\n",
    "5.  Does budget affect profits?"
   ]
  },
  {
   "cell_type": "markdown",
   "metadata": {},
   "source": [
    "<a id='wrangling'></a>\n",
    "# Data Wrangling\n",
    "\n",
    "> In this section of the report, I will load in the movie data, check for cleanliness, and then trim and clean the movie dataset for analysis.  I will also be documenting my data wrangling process one step at a time.\n"
   ]
  },
  {
   "cell_type": "markdown",
   "metadata": {},
   "source": [
    "## 1.  Loading and Inspecting the Movie Database\n"
   ]
  },
  {
   "cell_type": "code",
   "execution_count": 165,
   "metadata": {
    "collapsed": false
   },
   "outputs": [],
   "source": [
    "# Packages imported for this analysis\n",
    "import csv\n",
    "from datetime import datetime\n",
    "#%pylab inline\n",
    "import numpy as np\n",
    "% matplotlib inline\n",
    "\n",
    "import pandas as pd\n",
    "import seaborn as sns\n",
    "#sns.set(style=\"whitegrid\", color_codes=True)\n",
    "sns.set_style('whitegrid')\n",
    "import matplotlib as mpl\n",
    "import matplotlib.pyplot as plt\n",
    "# matplotlib.style.use('seaborn-paper')\n"
   ]
  },
  {
   "cell_type": "code",
   "execution_count": 166,
   "metadata": {
    "collapsed": false
   },
   "outputs": [],
   "source": [
    "# Loading my data and printing out a few lines. I am performing operations to \n",
    "# inspect the data types and look for instances of missing data.\n",
    "# The following code reads all the TMDb data into Pandas DataFrame.  Pandas stores \n",
    "# data into a dataframe. My datafame is called movies_df.\n",
    "# Empty data will be filled in as NaN\n",
    "# The explanation of the dataset can be found on\n",
    "# https://www.kaggle.com/tmdb/tmdb-movie-metadata\n",
    "movies_df = pd.read_csv('tmdb-movies.csv', keep_default_na=True)\n"
   ]
  },
  {
   "cell_type": "code",
   "execution_count": 167,
   "metadata": {
    "collapsed": false
   },
   "outputs": [
    {
     "data": {
      "text/plain": [
       "(10866, 21)"
      ]
     },
     "execution_count": 167,
     "metadata": {},
     "output_type": "execute_result"
    }
   ],
   "source": [
    "# Return shape to see how much data we have to work with on this CSV file.\n",
    "# From the data below we know that there is 10866 rows and 21 columns.\n",
    "movies_df.shape"
   ]
  },
  {
   "cell_type": "code",
   "execution_count": 168,
   "metadata": {
    "collapsed": false
   },
   "outputs": [
    {
     "name": "stdout",
     "output_type": "stream",
     "text": [
      "<class 'pandas.core.frame.DataFrame'>\n",
      "RangeIndex: 10866 entries, 0 to 10865\n",
      "Data columns (total 21 columns):\n",
      "id                      10866 non-null int64\n",
      "imdb_id                 10856 non-null object\n",
      "popularity              10866 non-null float64\n",
      "budget                  10866 non-null int64\n",
      "revenue                 10866 non-null int64\n",
      "original_title          10866 non-null object\n",
      "cast                    10790 non-null object\n",
      "homepage                2936 non-null object\n",
      "director                10822 non-null object\n",
      "tagline                 8042 non-null object\n",
      "keywords                9373 non-null object\n",
      "overview                10862 non-null object\n",
      "runtime                 10866 non-null int64\n",
      "genres                  10843 non-null object\n",
      "production_companies    9836 non-null object\n",
      "release_date            10866 non-null object\n",
      "vote_count              10866 non-null int64\n",
      "vote_average            10866 non-null float64\n",
      "release_year            10866 non-null int64\n",
      "budget_adj              10866 non-null float64\n",
      "revenue_adj             10866 non-null float64\n",
      "dtypes: float64(4), int64(6), object(11)\n",
      "memory usage: 1.7+ MB\n"
     ]
    }
   ],
   "source": [
    "# Show the count and data types for all columns\n",
    "movies_df.info()"
   ]
  },
  {
   "cell_type": "markdown",
   "metadata": {
    "collapsed": true
   },
   "source": [
    "From the data information above, I already know that not all data columns has values.  \n",
    "There were missing values for imdb_id, cast, homepage, director, tagline, keywords, overview,\n",
    "genres and production companies. Hence, I need to address the missing values during our data cleaning process.\n"
   ]
  },
  {
   "cell_type": "code",
   "execution_count": 169,
   "metadata": {
    "collapsed": false
   },
   "outputs": [
    {
     "data": {
      "text/html": [
       "<div>\n",
       "<table border=\"1\" class=\"dataframe\">\n",
       "  <thead>\n",
       "    <tr style=\"text-align: right;\">\n",
       "      <th></th>\n",
       "      <th>id</th>\n",
       "      <th>imdb_id</th>\n",
       "      <th>popularity</th>\n",
       "      <th>budget</th>\n",
       "      <th>revenue</th>\n",
       "      <th>original_title</th>\n",
       "      <th>cast</th>\n",
       "      <th>homepage</th>\n",
       "      <th>director</th>\n",
       "      <th>tagline</th>\n",
       "      <th>...</th>\n",
       "      <th>overview</th>\n",
       "      <th>runtime</th>\n",
       "      <th>genres</th>\n",
       "      <th>production_companies</th>\n",
       "      <th>release_date</th>\n",
       "      <th>vote_count</th>\n",
       "      <th>vote_average</th>\n",
       "      <th>release_year</th>\n",
       "      <th>budget_adj</th>\n",
       "      <th>revenue_adj</th>\n",
       "    </tr>\n",
       "  </thead>\n",
       "  <tbody>\n",
       "    <tr>\n",
       "      <th>0</th>\n",
       "      <td>135397</td>\n",
       "      <td>tt0369610</td>\n",
       "      <td>32.985763</td>\n",
       "      <td>150000000</td>\n",
       "      <td>1513528810</td>\n",
       "      <td>Jurassic World</td>\n",
       "      <td>Chris Pratt|Bryce Dallas Howard|Irrfan Khan|Vi...</td>\n",
       "      <td>http://www.jurassicworld.com/</td>\n",
       "      <td>Colin Trevorrow</td>\n",
       "      <td>The park is open.</td>\n",
       "      <td>...</td>\n",
       "      <td>Twenty-two years after the events of Jurassic ...</td>\n",
       "      <td>124</td>\n",
       "      <td>Action|Adventure|Science Fiction|Thriller</td>\n",
       "      <td>Universal Studios|Amblin Entertainment|Legenda...</td>\n",
       "      <td>6/9/15</td>\n",
       "      <td>5562</td>\n",
       "      <td>6.5</td>\n",
       "      <td>2015</td>\n",
       "      <td>1.379999e+08</td>\n",
       "      <td>1.392446e+09</td>\n",
       "    </tr>\n",
       "    <tr>\n",
       "      <th>1</th>\n",
       "      <td>76341</td>\n",
       "      <td>tt1392190</td>\n",
       "      <td>28.419936</td>\n",
       "      <td>150000000</td>\n",
       "      <td>378436354</td>\n",
       "      <td>Mad Max: Fury Road</td>\n",
       "      <td>Tom Hardy|Charlize Theron|Hugh Keays-Byrne|Nic...</td>\n",
       "      <td>http://www.madmaxmovie.com/</td>\n",
       "      <td>George Miller</td>\n",
       "      <td>What a Lovely Day.</td>\n",
       "      <td>...</td>\n",
       "      <td>An apocalyptic story set in the furthest reach...</td>\n",
       "      <td>120</td>\n",
       "      <td>Action|Adventure|Science Fiction|Thriller</td>\n",
       "      <td>Village Roadshow Pictures|Kennedy Miller Produ...</td>\n",
       "      <td>5/13/15</td>\n",
       "      <td>6185</td>\n",
       "      <td>7.1</td>\n",
       "      <td>2015</td>\n",
       "      <td>1.379999e+08</td>\n",
       "      <td>3.481613e+08</td>\n",
       "    </tr>\n",
       "    <tr>\n",
       "      <th>2</th>\n",
       "      <td>262500</td>\n",
       "      <td>tt2908446</td>\n",
       "      <td>13.112507</td>\n",
       "      <td>110000000</td>\n",
       "      <td>295238201</td>\n",
       "      <td>Insurgent</td>\n",
       "      <td>Shailene Woodley|Theo James|Kate Winslet|Ansel...</td>\n",
       "      <td>http://www.thedivergentseries.movie/#insurgent</td>\n",
       "      <td>Robert Schwentke</td>\n",
       "      <td>One Choice Can Destroy You</td>\n",
       "      <td>...</td>\n",
       "      <td>Beatrice Prior must confront her inner demons ...</td>\n",
       "      <td>119</td>\n",
       "      <td>Adventure|Science Fiction|Thriller</td>\n",
       "      <td>Summit Entertainment|Mandeville Films|Red Wago...</td>\n",
       "      <td>3/18/15</td>\n",
       "      <td>2480</td>\n",
       "      <td>6.3</td>\n",
       "      <td>2015</td>\n",
       "      <td>1.012000e+08</td>\n",
       "      <td>2.716190e+08</td>\n",
       "    </tr>\n",
       "    <tr>\n",
       "      <th>3</th>\n",
       "      <td>140607</td>\n",
       "      <td>tt2488496</td>\n",
       "      <td>11.173104</td>\n",
       "      <td>200000000</td>\n",
       "      <td>2068178225</td>\n",
       "      <td>Star Wars: The Force Awakens</td>\n",
       "      <td>Harrison Ford|Mark Hamill|Carrie Fisher|Adam D...</td>\n",
       "      <td>http://www.starwars.com/films/star-wars-episod...</td>\n",
       "      <td>J.J. Abrams</td>\n",
       "      <td>Every generation has a story.</td>\n",
       "      <td>...</td>\n",
       "      <td>Thirty years after defeating the Galactic Empi...</td>\n",
       "      <td>136</td>\n",
       "      <td>Action|Adventure|Science Fiction|Fantasy</td>\n",
       "      <td>Lucasfilm|Truenorth Productions|Bad Robot</td>\n",
       "      <td>12/15/15</td>\n",
       "      <td>5292</td>\n",
       "      <td>7.5</td>\n",
       "      <td>2015</td>\n",
       "      <td>1.839999e+08</td>\n",
       "      <td>1.902723e+09</td>\n",
       "    </tr>\n",
       "    <tr>\n",
       "      <th>4</th>\n",
       "      <td>168259</td>\n",
       "      <td>tt2820852</td>\n",
       "      <td>9.335014</td>\n",
       "      <td>190000000</td>\n",
       "      <td>1506249360</td>\n",
       "      <td>Furious 7</td>\n",
       "      <td>Vin Diesel|Paul Walker|Jason Statham|Michelle ...</td>\n",
       "      <td>http://www.furious7.com/</td>\n",
       "      <td>James Wan</td>\n",
       "      <td>Vengeance Hits Home</td>\n",
       "      <td>...</td>\n",
       "      <td>Deckard Shaw seeks revenge against Dominic Tor...</td>\n",
       "      <td>137</td>\n",
       "      <td>Action|Crime|Thriller</td>\n",
       "      <td>Universal Pictures|Original Film|Media Rights ...</td>\n",
       "      <td>4/1/15</td>\n",
       "      <td>2947</td>\n",
       "      <td>7.3</td>\n",
       "      <td>2015</td>\n",
       "      <td>1.747999e+08</td>\n",
       "      <td>1.385749e+09</td>\n",
       "    </tr>\n",
       "  </tbody>\n",
       "</table>\n",
       "<p>5 rows × 21 columns</p>\n",
       "</div>"
      ],
      "text/plain": [
       "       id    imdb_id  popularity     budget     revenue  \\\n",
       "0  135397  tt0369610   32.985763  150000000  1513528810   \n",
       "1   76341  tt1392190   28.419936  150000000   378436354   \n",
       "2  262500  tt2908446   13.112507  110000000   295238201   \n",
       "3  140607  tt2488496   11.173104  200000000  2068178225   \n",
       "4  168259  tt2820852    9.335014  190000000  1506249360   \n",
       "\n",
       "                 original_title  \\\n",
       "0                Jurassic World   \n",
       "1            Mad Max: Fury Road   \n",
       "2                     Insurgent   \n",
       "3  Star Wars: The Force Awakens   \n",
       "4                     Furious 7   \n",
       "\n",
       "                                                cast  \\\n",
       "0  Chris Pratt|Bryce Dallas Howard|Irrfan Khan|Vi...   \n",
       "1  Tom Hardy|Charlize Theron|Hugh Keays-Byrne|Nic...   \n",
       "2  Shailene Woodley|Theo James|Kate Winslet|Ansel...   \n",
       "3  Harrison Ford|Mark Hamill|Carrie Fisher|Adam D...   \n",
       "4  Vin Diesel|Paul Walker|Jason Statham|Michelle ...   \n",
       "\n",
       "                                            homepage          director  \\\n",
       "0                      http://www.jurassicworld.com/   Colin Trevorrow   \n",
       "1                        http://www.madmaxmovie.com/     George Miller   \n",
       "2     http://www.thedivergentseries.movie/#insurgent  Robert Schwentke   \n",
       "3  http://www.starwars.com/films/star-wars-episod...       J.J. Abrams   \n",
       "4                           http://www.furious7.com/         James Wan   \n",
       "\n",
       "                         tagline      ...       \\\n",
       "0              The park is open.      ...        \n",
       "1             What a Lovely Day.      ...        \n",
       "2     One Choice Can Destroy You      ...        \n",
       "3  Every generation has a story.      ...        \n",
       "4            Vengeance Hits Home      ...        \n",
       "\n",
       "                                            overview runtime  \\\n",
       "0  Twenty-two years after the events of Jurassic ...     124   \n",
       "1  An apocalyptic story set in the furthest reach...     120   \n",
       "2  Beatrice Prior must confront her inner demons ...     119   \n",
       "3  Thirty years after defeating the Galactic Empi...     136   \n",
       "4  Deckard Shaw seeks revenge against Dominic Tor...     137   \n",
       "\n",
       "                                      genres  \\\n",
       "0  Action|Adventure|Science Fiction|Thriller   \n",
       "1  Action|Adventure|Science Fiction|Thriller   \n",
       "2         Adventure|Science Fiction|Thriller   \n",
       "3   Action|Adventure|Science Fiction|Fantasy   \n",
       "4                      Action|Crime|Thriller   \n",
       "\n",
       "                                production_companies release_date vote_count  \\\n",
       "0  Universal Studios|Amblin Entertainment|Legenda...       6/9/15       5562   \n",
       "1  Village Roadshow Pictures|Kennedy Miller Produ...      5/13/15       6185   \n",
       "2  Summit Entertainment|Mandeville Films|Red Wago...      3/18/15       2480   \n",
       "3          Lucasfilm|Truenorth Productions|Bad Robot     12/15/15       5292   \n",
       "4  Universal Pictures|Original Film|Media Rights ...       4/1/15       2947   \n",
       "\n",
       "   vote_average  release_year    budget_adj   revenue_adj  \n",
       "0           6.5          2015  1.379999e+08  1.392446e+09  \n",
       "1           7.1          2015  1.379999e+08  3.481613e+08  \n",
       "2           6.3          2015  1.012000e+08  2.716190e+08  \n",
       "3           7.5          2015  1.839999e+08  1.902723e+09  \n",
       "4           7.3          2015  1.747999e+08  1.385749e+09  \n",
       "\n",
       "[5 rows x 21 columns]"
      ]
     },
     "execution_count": 169,
     "metadata": {},
     "output_type": "execute_result"
    }
   ],
   "source": [
    "# Inspect the data with .head\n",
    "movies_df.head()"
   ]
  },
  {
   "cell_type": "markdown",
   "metadata": {
    "collapsed": true
   },
   "source": [
    "The .head() function shows the data without \n",
    "having to load the entire dataset. It reveals\n",
    "the first 5 rows of the dataset.  It shows all the 'columns' for each movie 'row'. The .head() function is extremely useful when I want to scan the first few rows of a very large dataset."
   ]
  },
  {
   "cell_type": "code",
   "execution_count": 170,
   "metadata": {
    "collapsed": false
   },
   "outputs": [
    {
     "data": {
      "text/html": [
       "<div>\n",
       "<table border=\"1\" class=\"dataframe\">\n",
       "  <thead>\n",
       "    <tr style=\"text-align: right;\">\n",
       "      <th></th>\n",
       "      <th>id</th>\n",
       "      <th>imdb_id</th>\n",
       "      <th>popularity</th>\n",
       "      <th>budget</th>\n",
       "      <th>revenue</th>\n",
       "      <th>original_title</th>\n",
       "      <th>cast</th>\n",
       "      <th>homepage</th>\n",
       "      <th>director</th>\n",
       "      <th>tagline</th>\n",
       "      <th>...</th>\n",
       "      <th>overview</th>\n",
       "      <th>runtime</th>\n",
       "      <th>genres</th>\n",
       "      <th>production_companies</th>\n",
       "      <th>release_date</th>\n",
       "      <th>vote_count</th>\n",
       "      <th>vote_average</th>\n",
       "      <th>release_year</th>\n",
       "      <th>budget_adj</th>\n",
       "      <th>revenue_adj</th>\n",
       "    </tr>\n",
       "  </thead>\n",
       "  <tbody>\n",
       "    <tr>\n",
       "      <th>10861</th>\n",
       "      <td>21</td>\n",
       "      <td>tt0060371</td>\n",
       "      <td>0.080598</td>\n",
       "      <td>0</td>\n",
       "      <td>0</td>\n",
       "      <td>The Endless Summer</td>\n",
       "      <td>Michael Hynson|Robert August|Lord 'Tally Ho' B...</td>\n",
       "      <td>NaN</td>\n",
       "      <td>Bruce Brown</td>\n",
       "      <td>NaN</td>\n",
       "      <td>...</td>\n",
       "      <td>The Endless Summer, by Bruce Brown, is one of ...</td>\n",
       "      <td>95</td>\n",
       "      <td>Documentary</td>\n",
       "      <td>Bruce Brown Films</td>\n",
       "      <td>6/15/66</td>\n",
       "      <td>11</td>\n",
       "      <td>7.4</td>\n",
       "      <td>1966</td>\n",
       "      <td>0.000000</td>\n",
       "      <td>0.0</td>\n",
       "    </tr>\n",
       "    <tr>\n",
       "      <th>10862</th>\n",
       "      <td>20379</td>\n",
       "      <td>tt0060472</td>\n",
       "      <td>0.065543</td>\n",
       "      <td>0</td>\n",
       "      <td>0</td>\n",
       "      <td>Grand Prix</td>\n",
       "      <td>James Garner|Eva Marie Saint|Yves Montand|Tosh...</td>\n",
       "      <td>NaN</td>\n",
       "      <td>John Frankenheimer</td>\n",
       "      <td>Cinerama sweeps YOU into a drama of speed and ...</td>\n",
       "      <td>...</td>\n",
       "      <td>Grand Prix driver Pete Aron is fired by his te...</td>\n",
       "      <td>176</td>\n",
       "      <td>Action|Adventure|Drama</td>\n",
       "      <td>Cherokee Productions|Joel Productions|Douglas ...</td>\n",
       "      <td>12/21/66</td>\n",
       "      <td>20</td>\n",
       "      <td>5.7</td>\n",
       "      <td>1966</td>\n",
       "      <td>0.000000</td>\n",
       "      <td>0.0</td>\n",
       "    </tr>\n",
       "    <tr>\n",
       "      <th>10863</th>\n",
       "      <td>39768</td>\n",
       "      <td>tt0060161</td>\n",
       "      <td>0.065141</td>\n",
       "      <td>0</td>\n",
       "      <td>0</td>\n",
       "      <td>Beregis Avtomobilya</td>\n",
       "      <td>Innokentiy Smoktunovskiy|Oleg Efremov|Georgi Z...</td>\n",
       "      <td>NaN</td>\n",
       "      <td>Eldar Ryazanov</td>\n",
       "      <td>NaN</td>\n",
       "      <td>...</td>\n",
       "      <td>An insurance agent who moonlights as a carthie...</td>\n",
       "      <td>94</td>\n",
       "      <td>Mystery|Comedy</td>\n",
       "      <td>Mosfilm</td>\n",
       "      <td>1/1/66</td>\n",
       "      <td>11</td>\n",
       "      <td>6.5</td>\n",
       "      <td>1966</td>\n",
       "      <td>0.000000</td>\n",
       "      <td>0.0</td>\n",
       "    </tr>\n",
       "    <tr>\n",
       "      <th>10864</th>\n",
       "      <td>21449</td>\n",
       "      <td>tt0061177</td>\n",
       "      <td>0.064317</td>\n",
       "      <td>0</td>\n",
       "      <td>0</td>\n",
       "      <td>What's Up, Tiger Lily?</td>\n",
       "      <td>Tatsuya Mihashi|Akiko Wakabayashi|Mie Hama|Joh...</td>\n",
       "      <td>NaN</td>\n",
       "      <td>Woody Allen</td>\n",
       "      <td>WOODY ALLEN STRIKES BACK!</td>\n",
       "      <td>...</td>\n",
       "      <td>In comic Woody Allen's film debut, he took the...</td>\n",
       "      <td>80</td>\n",
       "      <td>Action|Comedy</td>\n",
       "      <td>Benedict Pictures Corp.</td>\n",
       "      <td>11/2/66</td>\n",
       "      <td>22</td>\n",
       "      <td>5.4</td>\n",
       "      <td>1966</td>\n",
       "      <td>0.000000</td>\n",
       "      <td>0.0</td>\n",
       "    </tr>\n",
       "    <tr>\n",
       "      <th>10865</th>\n",
       "      <td>22293</td>\n",
       "      <td>tt0060666</td>\n",
       "      <td>0.035919</td>\n",
       "      <td>19000</td>\n",
       "      <td>0</td>\n",
       "      <td>Manos: The Hands of Fate</td>\n",
       "      <td>Harold P. Warren|Tom Neyman|John Reynolds|Dian...</td>\n",
       "      <td>NaN</td>\n",
       "      <td>Harold P. Warren</td>\n",
       "      <td>It's Shocking! It's Beyond Your Imagination!</td>\n",
       "      <td>...</td>\n",
       "      <td>A family gets lost on the road and stumbles up...</td>\n",
       "      <td>74</td>\n",
       "      <td>Horror</td>\n",
       "      <td>Norm-Iris</td>\n",
       "      <td>11/15/66</td>\n",
       "      <td>15</td>\n",
       "      <td>1.5</td>\n",
       "      <td>1966</td>\n",
       "      <td>127642.279154</td>\n",
       "      <td>0.0</td>\n",
       "    </tr>\n",
       "  </tbody>\n",
       "</table>\n",
       "<p>5 rows × 21 columns</p>\n",
       "</div>"
      ],
      "text/plain": [
       "          id    imdb_id  popularity  budget  revenue  \\\n",
       "10861     21  tt0060371    0.080598       0        0   \n",
       "10862  20379  tt0060472    0.065543       0        0   \n",
       "10863  39768  tt0060161    0.065141       0        0   \n",
       "10864  21449  tt0061177    0.064317       0        0   \n",
       "10865  22293  tt0060666    0.035919   19000        0   \n",
       "\n",
       "                 original_title  \\\n",
       "10861        The Endless Summer   \n",
       "10862                Grand Prix   \n",
       "10863       Beregis Avtomobilya   \n",
       "10864    What's Up, Tiger Lily?   \n",
       "10865  Manos: The Hands of Fate   \n",
       "\n",
       "                                                    cast homepage  \\\n",
       "10861  Michael Hynson|Robert August|Lord 'Tally Ho' B...      NaN   \n",
       "10862  James Garner|Eva Marie Saint|Yves Montand|Tosh...      NaN   \n",
       "10863  Innokentiy Smoktunovskiy|Oleg Efremov|Georgi Z...      NaN   \n",
       "10864  Tatsuya Mihashi|Akiko Wakabayashi|Mie Hama|Joh...      NaN   \n",
       "10865  Harold P. Warren|Tom Neyman|John Reynolds|Dian...      NaN   \n",
       "\n",
       "                 director                                            tagline  \\\n",
       "10861         Bruce Brown                                                NaN   \n",
       "10862  John Frankenheimer  Cinerama sweeps YOU into a drama of speed and ...   \n",
       "10863      Eldar Ryazanov                                                NaN   \n",
       "10864         Woody Allen                          WOODY ALLEN STRIKES BACK!   \n",
       "10865    Harold P. Warren       It's Shocking! It's Beyond Your Imagination!   \n",
       "\n",
       "          ...                                                overview runtime  \\\n",
       "10861     ...       The Endless Summer, by Bruce Brown, is one of ...      95   \n",
       "10862     ...       Grand Prix driver Pete Aron is fired by his te...     176   \n",
       "10863     ...       An insurance agent who moonlights as a carthie...      94   \n",
       "10864     ...       In comic Woody Allen's film debut, he took the...      80   \n",
       "10865     ...       A family gets lost on the road and stumbles up...      74   \n",
       "\n",
       "                       genres  \\\n",
       "10861             Documentary   \n",
       "10862  Action|Adventure|Drama   \n",
       "10863          Mystery|Comedy   \n",
       "10864           Action|Comedy   \n",
       "10865                  Horror   \n",
       "\n",
       "                                    production_companies release_date  \\\n",
       "10861                                  Bruce Brown Films      6/15/66   \n",
       "10862  Cherokee Productions|Joel Productions|Douglas ...     12/21/66   \n",
       "10863                                            Mosfilm       1/1/66   \n",
       "10864                            Benedict Pictures Corp.      11/2/66   \n",
       "10865                                          Norm-Iris     11/15/66   \n",
       "\n",
       "      vote_count  vote_average  release_year     budget_adj  revenue_adj  \n",
       "10861         11           7.4          1966       0.000000          0.0  \n",
       "10862         20           5.7          1966       0.000000          0.0  \n",
       "10863         11           6.5          1966       0.000000          0.0  \n",
       "10864         22           5.4          1966       0.000000          0.0  \n",
       "10865         15           1.5          1966  127642.279154          0.0  \n",
       "\n",
       "[5 rows x 21 columns]"
      ]
     },
     "execution_count": 170,
     "metadata": {},
     "output_type": "execute_result"
    }
   ],
   "source": [
    "# Inspect the data with .tail\n",
    "movies_df.tail()"
   ]
  },
  {
   "cell_type": "markdown",
   "metadata": {},
   "source": [
    "The .tail() function shows the data in the last 5 rows of the dataset.  It shows all the 'columns' for each movie 'row' on the bottom of the dataset. Again, the .tail() function is extremely useful when I want to scan the last few rows of a very large dataset."
   ]
  },
  {
   "cell_type": "markdown",
   "metadata": {
    "collapsed": true
   },
   "source": [
    "At a high level, when I compare the .head() and .tail() function, I can inspect the type of dataset that is available without downloading the entire dataset. I am able to observe the various variables that is present on the dataset.\n"
   ]
  },
  {
   "cell_type": "code",
   "execution_count": 171,
   "metadata": {
    "collapsed": false
   },
   "outputs": [
    {
     "data": {
      "text/html": [
       "<div>\n",
       "<table border=\"1\" class=\"dataframe\">\n",
       "  <thead>\n",
       "    <tr style=\"text-align: right;\">\n",
       "      <th></th>\n",
       "      <th>id</th>\n",
       "      <th>popularity</th>\n",
       "      <th>budget</th>\n",
       "      <th>revenue</th>\n",
       "      <th>runtime</th>\n",
       "      <th>vote_count</th>\n",
       "      <th>vote_average</th>\n",
       "      <th>release_year</th>\n",
       "      <th>budget_adj</th>\n",
       "      <th>revenue_adj</th>\n",
       "    </tr>\n",
       "  </thead>\n",
       "  <tbody>\n",
       "    <tr>\n",
       "      <th>count</th>\n",
       "      <td>10866.000000</td>\n",
       "      <td>10866.000000</td>\n",
       "      <td>1.086600e+04</td>\n",
       "      <td>1.086600e+04</td>\n",
       "      <td>10866.000000</td>\n",
       "      <td>10866.000000</td>\n",
       "      <td>10866.000000</td>\n",
       "      <td>10866.000000</td>\n",
       "      <td>1.086600e+04</td>\n",
       "      <td>1.086600e+04</td>\n",
       "    </tr>\n",
       "    <tr>\n",
       "      <th>mean</th>\n",
       "      <td>66064.177434</td>\n",
       "      <td>0.646441</td>\n",
       "      <td>1.462570e+07</td>\n",
       "      <td>3.982332e+07</td>\n",
       "      <td>102.070863</td>\n",
       "      <td>217.389748</td>\n",
       "      <td>5.974922</td>\n",
       "      <td>2001.322658</td>\n",
       "      <td>1.755104e+07</td>\n",
       "      <td>5.136436e+07</td>\n",
       "    </tr>\n",
       "    <tr>\n",
       "      <th>std</th>\n",
       "      <td>92130.136561</td>\n",
       "      <td>1.000185</td>\n",
       "      <td>3.091321e+07</td>\n",
       "      <td>1.170035e+08</td>\n",
       "      <td>31.381405</td>\n",
       "      <td>575.619058</td>\n",
       "      <td>0.935142</td>\n",
       "      <td>12.812941</td>\n",
       "      <td>3.430616e+07</td>\n",
       "      <td>1.446325e+08</td>\n",
       "    </tr>\n",
       "    <tr>\n",
       "      <th>min</th>\n",
       "      <td>5.000000</td>\n",
       "      <td>0.000065</td>\n",
       "      <td>0.000000e+00</td>\n",
       "      <td>0.000000e+00</td>\n",
       "      <td>0.000000</td>\n",
       "      <td>10.000000</td>\n",
       "      <td>1.500000</td>\n",
       "      <td>1960.000000</td>\n",
       "      <td>0.000000e+00</td>\n",
       "      <td>0.000000e+00</td>\n",
       "    </tr>\n",
       "    <tr>\n",
       "      <th>25%</th>\n",
       "      <td>10596.250000</td>\n",
       "      <td>0.207583</td>\n",
       "      <td>0.000000e+00</td>\n",
       "      <td>0.000000e+00</td>\n",
       "      <td>90.000000</td>\n",
       "      <td>17.000000</td>\n",
       "      <td>5.400000</td>\n",
       "      <td>1995.000000</td>\n",
       "      <td>0.000000e+00</td>\n",
       "      <td>0.000000e+00</td>\n",
       "    </tr>\n",
       "    <tr>\n",
       "      <th>50%</th>\n",
       "      <td>20669.000000</td>\n",
       "      <td>0.383856</td>\n",
       "      <td>0.000000e+00</td>\n",
       "      <td>0.000000e+00</td>\n",
       "      <td>99.000000</td>\n",
       "      <td>38.000000</td>\n",
       "      <td>6.000000</td>\n",
       "      <td>2006.000000</td>\n",
       "      <td>0.000000e+00</td>\n",
       "      <td>0.000000e+00</td>\n",
       "    </tr>\n",
       "    <tr>\n",
       "      <th>75%</th>\n",
       "      <td>75610.000000</td>\n",
       "      <td>0.713817</td>\n",
       "      <td>1.500000e+07</td>\n",
       "      <td>2.400000e+07</td>\n",
       "      <td>111.000000</td>\n",
       "      <td>145.750000</td>\n",
       "      <td>6.600000</td>\n",
       "      <td>2011.000000</td>\n",
       "      <td>2.085325e+07</td>\n",
       "      <td>3.369710e+07</td>\n",
       "    </tr>\n",
       "    <tr>\n",
       "      <th>max</th>\n",
       "      <td>417859.000000</td>\n",
       "      <td>32.985763</td>\n",
       "      <td>4.250000e+08</td>\n",
       "      <td>2.781506e+09</td>\n",
       "      <td>900.000000</td>\n",
       "      <td>9767.000000</td>\n",
       "      <td>9.200000</td>\n",
       "      <td>2015.000000</td>\n",
       "      <td>4.250000e+08</td>\n",
       "      <td>2.827124e+09</td>\n",
       "    </tr>\n",
       "  </tbody>\n",
       "</table>\n",
       "</div>"
      ],
      "text/plain": [
       "                  id    popularity        budget       revenue       runtime  \\\n",
       "count   10866.000000  10866.000000  1.086600e+04  1.086600e+04  10866.000000   \n",
       "mean    66064.177434      0.646441  1.462570e+07  3.982332e+07    102.070863   \n",
       "std     92130.136561      1.000185  3.091321e+07  1.170035e+08     31.381405   \n",
       "min         5.000000      0.000065  0.000000e+00  0.000000e+00      0.000000   \n",
       "25%     10596.250000      0.207583  0.000000e+00  0.000000e+00     90.000000   \n",
       "50%     20669.000000      0.383856  0.000000e+00  0.000000e+00     99.000000   \n",
       "75%     75610.000000      0.713817  1.500000e+07  2.400000e+07    111.000000   \n",
       "max    417859.000000     32.985763  4.250000e+08  2.781506e+09    900.000000   \n",
       "\n",
       "         vote_count  vote_average  release_year    budget_adj   revenue_adj  \n",
       "count  10866.000000  10866.000000  10866.000000  1.086600e+04  1.086600e+04  \n",
       "mean     217.389748      5.974922   2001.322658  1.755104e+07  5.136436e+07  \n",
       "std      575.619058      0.935142     12.812941  3.430616e+07  1.446325e+08  \n",
       "min       10.000000      1.500000   1960.000000  0.000000e+00  0.000000e+00  \n",
       "25%       17.000000      5.400000   1995.000000  0.000000e+00  0.000000e+00  \n",
       "50%       38.000000      6.000000   2006.000000  0.000000e+00  0.000000e+00  \n",
       "75%      145.750000      6.600000   2011.000000  2.085325e+07  3.369710e+07  \n",
       "max     9767.000000      9.200000   2015.000000  4.250000e+08  2.827124e+09  "
      ]
     },
     "execution_count": 171,
     "metadata": {},
     "output_type": "execute_result"
    }
   ],
   "source": [
    "# Here are some statistics with pd.describe\n",
    "movies_df.describe()"
   ]
  },
  {
   "cell_type": "markdown",
   "metadata": {
    "collapsed": true
   },
   "source": [
    "The pd.describe function provides statistical information that maybe needed \n",
    "in this project later."
   ]
  },
  {
   "cell_type": "markdown",
   "metadata": {},
   "source": [
    "## 2.  Data Cleaning "
   ]
  },
  {
   "cell_type": "markdown",
   "metadata": {
    "collapsed": true
   },
   "source": [
    "I have seen the structure of the data.  I already know that there are missing values in the data.  There might be other problems in the data which needs to be cleaned.  I perform those cleaning steps in this section."
   ]
  },
  {
   "cell_type": "markdown",
   "metadata": {},
   "source": [
    "Some of the data cleaning steps which I would be doing are identifying missing values, dropping unnecessary columns, detecting duplicate records and filling missing values.  \n",
    "\n",
    "Now, let's see what column has missing data, how many missing values, and what percent of the column has missing data.  This will give me an insight of not only the number of missing values, but also the significance of the missing data."
   ]
  },
  {
   "cell_type": "code",
   "execution_count": 172,
   "metadata": {
    "collapsed": false
   },
   "outputs": [
    {
     "name": "stdout",
     "output_type": "stream",
     "text": [
      "Missing data in each Movies dataframe column:\n",
      "imdb_id : 10 missing values is 0.092 % of total\n",
      "cast : 76 missing values is 0.699 % of total\n",
      "homepage : 7930 missing values is 72.98 % of total\n",
      "director : 44 missing values is 0.405 % of total\n",
      "tagline : 2824 missing values is 25.989 % of total\n",
      "keywords : 1493 missing values is 13.74 % of total\n",
      "overview : 4 missing values is 0.037 % of total\n",
      "genres : 23 missing values is 0.212 % of total\n",
      "production_companies : 1030 missing values is 9.479 % of total\n"
     ]
    }
   ],
   "source": [
    "# Find how many missing values and percentage missing in each column\n",
    "print 'Missing data in each Movies dataframe column:'\n",
    "for c in movies_df.columns:\n",
    "    missing_data = len(movies_df) - movies_df[c].count()\n",
    "    if (missing_data > 0 or missing_data == 'NaN'):\n",
    "        print c, ':', missing_data, 'missing values is', str(round(float(missing_data / float(len(movies_df))) * \n",
    "        100, 3)), '% of total'\n",
    "    "
   ]
  },
  {
   "cell_type": "markdown",
   "metadata": {
    "collapsed": true
   },
   "source": [
    "From the data, there are few missing values in the imdb_id, cast, director, \n",
    "overview, genres and production_companies columns. In addition, there is a huge amount of missing values on homepage, tagline and keywords.  \n",
    "\n",
    "There are various methods to deal with the missing data.  There are pros and cons on each of these methods.\n",
    "\n",
    "<ul>\n",
    "<li>Drop the value (unneccessary columns)</li>\n",
    "This method is acceptable if there is not enough data on the variable. In the movie database, we can drop \"homepage\" because this column has over 70% of missing data.\n",
    "<li>Drop duplicate record</li>\n",
    "<li>Assign values to the missing data</li>\n",
    "This is perhaps more suitable for categorical variables such as \"genres\".  This would perhaps not work for numerical data.\n",
    "</ul>\n",
    "\n",
    "As shown in the missing data findings above, we do not have to worry about assigning mean/median/mode value to our dataset as there is no concern over the numerical data. In addition, we do not have to predict any missing numerical data as well. \n",
    "  "
   ]
  },
  {
   "cell_type": "markdown",
   "metadata": {},
   "source": [
    "### A. Drop unnecessary columns"
   ]
  },
  {
   "cell_type": "markdown",
   "metadata": {},
   "source": [
    "The \"homepage\" column has over 70% missing values.  As a result, we will remove this column from our analysis."
   ]
  },
  {
   "cell_type": "markdown",
   "metadata": {},
   "source": [
    "### 1. Drop the homepage column"
   ]
  },
  {
   "cell_type": "code",
   "execution_count": 173,
   "metadata": {
    "collapsed": false
   },
   "outputs": [],
   "source": [
    "movies_df.drop(['homepage'], axis = 1, inplace = True)\n"
   ]
  },
  {
   "cell_type": "markdown",
   "metadata": {},
   "source": [
    "### 1.a.  Check to see if the 'homepage' column is dropped?"
   ]
  },
  {
   "cell_type": "code",
   "execution_count": 174,
   "metadata": {
    "collapsed": false
   },
   "outputs": [
    {
     "data": {
      "text/html": [
       "<div>\n",
       "<table border=\"1\" class=\"dataframe\">\n",
       "  <thead>\n",
       "    <tr style=\"text-align: right;\">\n",
       "      <th></th>\n",
       "      <th>id</th>\n",
       "      <th>imdb_id</th>\n",
       "      <th>popularity</th>\n",
       "      <th>budget</th>\n",
       "      <th>revenue</th>\n",
       "      <th>original_title</th>\n",
       "      <th>cast</th>\n",
       "      <th>director</th>\n",
       "      <th>tagline</th>\n",
       "      <th>keywords</th>\n",
       "      <th>overview</th>\n",
       "      <th>runtime</th>\n",
       "      <th>genres</th>\n",
       "      <th>production_companies</th>\n",
       "      <th>release_date</th>\n",
       "      <th>vote_count</th>\n",
       "      <th>vote_average</th>\n",
       "      <th>release_year</th>\n",
       "      <th>budget_adj</th>\n",
       "      <th>revenue_adj</th>\n",
       "    </tr>\n",
       "  </thead>\n",
       "  <tbody>\n",
       "    <tr>\n",
       "      <th>0</th>\n",
       "      <td>135397</td>\n",
       "      <td>tt0369610</td>\n",
       "      <td>32.985763</td>\n",
       "      <td>150000000</td>\n",
       "      <td>1513528810</td>\n",
       "      <td>Jurassic World</td>\n",
       "      <td>Chris Pratt|Bryce Dallas Howard|Irrfan Khan|Vi...</td>\n",
       "      <td>Colin Trevorrow</td>\n",
       "      <td>The park is open.</td>\n",
       "      <td>monster|dna|tyrannosaurus rex|velociraptor|island</td>\n",
       "      <td>Twenty-two years after the events of Jurassic ...</td>\n",
       "      <td>124</td>\n",
       "      <td>Action|Adventure|Science Fiction|Thriller</td>\n",
       "      <td>Universal Studios|Amblin Entertainment|Legenda...</td>\n",
       "      <td>6/9/15</td>\n",
       "      <td>5562</td>\n",
       "      <td>6.5</td>\n",
       "      <td>2015</td>\n",
       "      <td>1.379999e+08</td>\n",
       "      <td>1.392446e+09</td>\n",
       "    </tr>\n",
       "    <tr>\n",
       "      <th>1</th>\n",
       "      <td>76341</td>\n",
       "      <td>tt1392190</td>\n",
       "      <td>28.419936</td>\n",
       "      <td>150000000</td>\n",
       "      <td>378436354</td>\n",
       "      <td>Mad Max: Fury Road</td>\n",
       "      <td>Tom Hardy|Charlize Theron|Hugh Keays-Byrne|Nic...</td>\n",
       "      <td>George Miller</td>\n",
       "      <td>What a Lovely Day.</td>\n",
       "      <td>future|chase|post-apocalyptic|dystopia|australia</td>\n",
       "      <td>An apocalyptic story set in the furthest reach...</td>\n",
       "      <td>120</td>\n",
       "      <td>Action|Adventure|Science Fiction|Thriller</td>\n",
       "      <td>Village Roadshow Pictures|Kennedy Miller Produ...</td>\n",
       "      <td>5/13/15</td>\n",
       "      <td>6185</td>\n",
       "      <td>7.1</td>\n",
       "      <td>2015</td>\n",
       "      <td>1.379999e+08</td>\n",
       "      <td>3.481613e+08</td>\n",
       "    </tr>\n",
       "    <tr>\n",
       "      <th>2</th>\n",
       "      <td>262500</td>\n",
       "      <td>tt2908446</td>\n",
       "      <td>13.112507</td>\n",
       "      <td>110000000</td>\n",
       "      <td>295238201</td>\n",
       "      <td>Insurgent</td>\n",
       "      <td>Shailene Woodley|Theo James|Kate Winslet|Ansel...</td>\n",
       "      <td>Robert Schwentke</td>\n",
       "      <td>One Choice Can Destroy You</td>\n",
       "      <td>based on novel|revolution|dystopia|sequel|dyst...</td>\n",
       "      <td>Beatrice Prior must confront her inner demons ...</td>\n",
       "      <td>119</td>\n",
       "      <td>Adventure|Science Fiction|Thriller</td>\n",
       "      <td>Summit Entertainment|Mandeville Films|Red Wago...</td>\n",
       "      <td>3/18/15</td>\n",
       "      <td>2480</td>\n",
       "      <td>6.3</td>\n",
       "      <td>2015</td>\n",
       "      <td>1.012000e+08</td>\n",
       "      <td>2.716190e+08</td>\n",
       "    </tr>\n",
       "    <tr>\n",
       "      <th>3</th>\n",
       "      <td>140607</td>\n",
       "      <td>tt2488496</td>\n",
       "      <td>11.173104</td>\n",
       "      <td>200000000</td>\n",
       "      <td>2068178225</td>\n",
       "      <td>Star Wars: The Force Awakens</td>\n",
       "      <td>Harrison Ford|Mark Hamill|Carrie Fisher|Adam D...</td>\n",
       "      <td>J.J. Abrams</td>\n",
       "      <td>Every generation has a story.</td>\n",
       "      <td>android|spaceship|jedi|space opera|3d</td>\n",
       "      <td>Thirty years after defeating the Galactic Empi...</td>\n",
       "      <td>136</td>\n",
       "      <td>Action|Adventure|Science Fiction|Fantasy</td>\n",
       "      <td>Lucasfilm|Truenorth Productions|Bad Robot</td>\n",
       "      <td>12/15/15</td>\n",
       "      <td>5292</td>\n",
       "      <td>7.5</td>\n",
       "      <td>2015</td>\n",
       "      <td>1.839999e+08</td>\n",
       "      <td>1.902723e+09</td>\n",
       "    </tr>\n",
       "    <tr>\n",
       "      <th>4</th>\n",
       "      <td>168259</td>\n",
       "      <td>tt2820852</td>\n",
       "      <td>9.335014</td>\n",
       "      <td>190000000</td>\n",
       "      <td>1506249360</td>\n",
       "      <td>Furious 7</td>\n",
       "      <td>Vin Diesel|Paul Walker|Jason Statham|Michelle ...</td>\n",
       "      <td>James Wan</td>\n",
       "      <td>Vengeance Hits Home</td>\n",
       "      <td>car race|speed|revenge|suspense|car</td>\n",
       "      <td>Deckard Shaw seeks revenge against Dominic Tor...</td>\n",
       "      <td>137</td>\n",
       "      <td>Action|Crime|Thriller</td>\n",
       "      <td>Universal Pictures|Original Film|Media Rights ...</td>\n",
       "      <td>4/1/15</td>\n",
       "      <td>2947</td>\n",
       "      <td>7.3</td>\n",
       "      <td>2015</td>\n",
       "      <td>1.747999e+08</td>\n",
       "      <td>1.385749e+09</td>\n",
       "    </tr>\n",
       "  </tbody>\n",
       "</table>\n",
       "</div>"
      ],
      "text/plain": [
       "       id    imdb_id  popularity     budget     revenue  \\\n",
       "0  135397  tt0369610   32.985763  150000000  1513528810   \n",
       "1   76341  tt1392190   28.419936  150000000   378436354   \n",
       "2  262500  tt2908446   13.112507  110000000   295238201   \n",
       "3  140607  tt2488496   11.173104  200000000  2068178225   \n",
       "4  168259  tt2820852    9.335014  190000000  1506249360   \n",
       "\n",
       "                 original_title  \\\n",
       "0                Jurassic World   \n",
       "1            Mad Max: Fury Road   \n",
       "2                     Insurgent   \n",
       "3  Star Wars: The Force Awakens   \n",
       "4                     Furious 7   \n",
       "\n",
       "                                                cast          director  \\\n",
       "0  Chris Pratt|Bryce Dallas Howard|Irrfan Khan|Vi...   Colin Trevorrow   \n",
       "1  Tom Hardy|Charlize Theron|Hugh Keays-Byrne|Nic...     George Miller   \n",
       "2  Shailene Woodley|Theo James|Kate Winslet|Ansel...  Robert Schwentke   \n",
       "3  Harrison Ford|Mark Hamill|Carrie Fisher|Adam D...       J.J. Abrams   \n",
       "4  Vin Diesel|Paul Walker|Jason Statham|Michelle ...         James Wan   \n",
       "\n",
       "                         tagline  \\\n",
       "0              The park is open.   \n",
       "1             What a Lovely Day.   \n",
       "2     One Choice Can Destroy You   \n",
       "3  Every generation has a story.   \n",
       "4            Vengeance Hits Home   \n",
       "\n",
       "                                            keywords  \\\n",
       "0  monster|dna|tyrannosaurus rex|velociraptor|island   \n",
       "1   future|chase|post-apocalyptic|dystopia|australia   \n",
       "2  based on novel|revolution|dystopia|sequel|dyst...   \n",
       "3              android|spaceship|jedi|space opera|3d   \n",
       "4                car race|speed|revenge|suspense|car   \n",
       "\n",
       "                                            overview  runtime  \\\n",
       "0  Twenty-two years after the events of Jurassic ...      124   \n",
       "1  An apocalyptic story set in the furthest reach...      120   \n",
       "2  Beatrice Prior must confront her inner demons ...      119   \n",
       "3  Thirty years after defeating the Galactic Empi...      136   \n",
       "4  Deckard Shaw seeks revenge against Dominic Tor...      137   \n",
       "\n",
       "                                      genres  \\\n",
       "0  Action|Adventure|Science Fiction|Thriller   \n",
       "1  Action|Adventure|Science Fiction|Thriller   \n",
       "2         Adventure|Science Fiction|Thriller   \n",
       "3   Action|Adventure|Science Fiction|Fantasy   \n",
       "4                      Action|Crime|Thriller   \n",
       "\n",
       "                                production_companies release_date  vote_count  \\\n",
       "0  Universal Studios|Amblin Entertainment|Legenda...       6/9/15        5562   \n",
       "1  Village Roadshow Pictures|Kennedy Miller Produ...      5/13/15        6185   \n",
       "2  Summit Entertainment|Mandeville Films|Red Wago...      3/18/15        2480   \n",
       "3          Lucasfilm|Truenorth Productions|Bad Robot     12/15/15        5292   \n",
       "4  Universal Pictures|Original Film|Media Rights ...       4/1/15        2947   \n",
       "\n",
       "   vote_average  release_year    budget_adj   revenue_adj  \n",
       "0           6.5          2015  1.379999e+08  1.392446e+09  \n",
       "1           7.1          2015  1.379999e+08  3.481613e+08  \n",
       "2           6.3          2015  1.012000e+08  2.716190e+08  \n",
       "3           7.5          2015  1.839999e+08  1.902723e+09  \n",
       "4           7.3          2015  1.747999e+08  1.385749e+09  "
      ]
     },
     "execution_count": 174,
     "metadata": {},
     "output_type": "execute_result"
    }
   ],
   "source": [
    "movies_df.head()"
   ]
  },
  {
   "cell_type": "markdown",
   "metadata": {},
   "source": [
    "Also, the imdb_id, cast, director, tagline, keywords, overview and production_companies are not required to answer my analysis questions. Hence, we are dropping these columns as well."
   ]
  },
  {
   "cell_type": "markdown",
   "metadata": {},
   "source": [
    "### 2. Drop imdb_id, cast, director, tagline, keywords, overview and production_companies columns.  This too are not required for the analysis."
   ]
  },
  {
   "cell_type": "code",
   "execution_count": 175,
   "metadata": {
    "collapsed": false
   },
   "outputs": [],
   "source": [
    "movies_df.drop(['imdb_id','cast', 'director','tagline','keywords','overview','production_companies'], axis = 1, inplace = True)"
   ]
  },
  {
   "cell_type": "markdown",
   "metadata": {},
   "source": [
    "### 2.b. Let's check and see if the above columns have been dropped"
   ]
  },
  {
   "cell_type": "code",
   "execution_count": 176,
   "metadata": {
    "collapsed": false
   },
   "outputs": [
    {
     "data": {
      "text/html": [
       "<div>\n",
       "<table border=\"1\" class=\"dataframe\">\n",
       "  <thead>\n",
       "    <tr style=\"text-align: right;\">\n",
       "      <th></th>\n",
       "      <th>id</th>\n",
       "      <th>popularity</th>\n",
       "      <th>budget</th>\n",
       "      <th>revenue</th>\n",
       "      <th>original_title</th>\n",
       "      <th>runtime</th>\n",
       "      <th>genres</th>\n",
       "      <th>release_date</th>\n",
       "      <th>vote_count</th>\n",
       "      <th>vote_average</th>\n",
       "      <th>release_year</th>\n",
       "      <th>budget_adj</th>\n",
       "      <th>revenue_adj</th>\n",
       "    </tr>\n",
       "  </thead>\n",
       "  <tbody>\n",
       "    <tr>\n",
       "      <th>0</th>\n",
       "      <td>135397</td>\n",
       "      <td>32.985763</td>\n",
       "      <td>150000000</td>\n",
       "      <td>1513528810</td>\n",
       "      <td>Jurassic World</td>\n",
       "      <td>124</td>\n",
       "      <td>Action|Adventure|Science Fiction|Thriller</td>\n",
       "      <td>6/9/15</td>\n",
       "      <td>5562</td>\n",
       "      <td>6.5</td>\n",
       "      <td>2015</td>\n",
       "      <td>1.379999e+08</td>\n",
       "      <td>1.392446e+09</td>\n",
       "    </tr>\n",
       "    <tr>\n",
       "      <th>1</th>\n",
       "      <td>76341</td>\n",
       "      <td>28.419936</td>\n",
       "      <td>150000000</td>\n",
       "      <td>378436354</td>\n",
       "      <td>Mad Max: Fury Road</td>\n",
       "      <td>120</td>\n",
       "      <td>Action|Adventure|Science Fiction|Thriller</td>\n",
       "      <td>5/13/15</td>\n",
       "      <td>6185</td>\n",
       "      <td>7.1</td>\n",
       "      <td>2015</td>\n",
       "      <td>1.379999e+08</td>\n",
       "      <td>3.481613e+08</td>\n",
       "    </tr>\n",
       "    <tr>\n",
       "      <th>2</th>\n",
       "      <td>262500</td>\n",
       "      <td>13.112507</td>\n",
       "      <td>110000000</td>\n",
       "      <td>295238201</td>\n",
       "      <td>Insurgent</td>\n",
       "      <td>119</td>\n",
       "      <td>Adventure|Science Fiction|Thriller</td>\n",
       "      <td>3/18/15</td>\n",
       "      <td>2480</td>\n",
       "      <td>6.3</td>\n",
       "      <td>2015</td>\n",
       "      <td>1.012000e+08</td>\n",
       "      <td>2.716190e+08</td>\n",
       "    </tr>\n",
       "    <tr>\n",
       "      <th>3</th>\n",
       "      <td>140607</td>\n",
       "      <td>11.173104</td>\n",
       "      <td>200000000</td>\n",
       "      <td>2068178225</td>\n",
       "      <td>Star Wars: The Force Awakens</td>\n",
       "      <td>136</td>\n",
       "      <td>Action|Adventure|Science Fiction|Fantasy</td>\n",
       "      <td>12/15/15</td>\n",
       "      <td>5292</td>\n",
       "      <td>7.5</td>\n",
       "      <td>2015</td>\n",
       "      <td>1.839999e+08</td>\n",
       "      <td>1.902723e+09</td>\n",
       "    </tr>\n",
       "    <tr>\n",
       "      <th>4</th>\n",
       "      <td>168259</td>\n",
       "      <td>9.335014</td>\n",
       "      <td>190000000</td>\n",
       "      <td>1506249360</td>\n",
       "      <td>Furious 7</td>\n",
       "      <td>137</td>\n",
       "      <td>Action|Crime|Thriller</td>\n",
       "      <td>4/1/15</td>\n",
       "      <td>2947</td>\n",
       "      <td>7.3</td>\n",
       "      <td>2015</td>\n",
       "      <td>1.747999e+08</td>\n",
       "      <td>1.385749e+09</td>\n",
       "    </tr>\n",
       "  </tbody>\n",
       "</table>\n",
       "</div>"
      ],
      "text/plain": [
       "       id  popularity     budget     revenue                original_title  \\\n",
       "0  135397   32.985763  150000000  1513528810                Jurassic World   \n",
       "1   76341   28.419936  150000000   378436354            Mad Max: Fury Road   \n",
       "2  262500   13.112507  110000000   295238201                     Insurgent   \n",
       "3  140607   11.173104  200000000  2068178225  Star Wars: The Force Awakens   \n",
       "4  168259    9.335014  190000000  1506249360                     Furious 7   \n",
       "\n",
       "   runtime                                     genres release_date  \\\n",
       "0      124  Action|Adventure|Science Fiction|Thriller       6/9/15   \n",
       "1      120  Action|Adventure|Science Fiction|Thriller      5/13/15   \n",
       "2      119         Adventure|Science Fiction|Thriller      3/18/15   \n",
       "3      136   Action|Adventure|Science Fiction|Fantasy     12/15/15   \n",
       "4      137                      Action|Crime|Thriller       4/1/15   \n",
       "\n",
       "   vote_count  vote_average  release_year    budget_adj   revenue_adj  \n",
       "0        5562           6.5          2015  1.379999e+08  1.392446e+09  \n",
       "1        6185           7.1          2015  1.379999e+08  3.481613e+08  \n",
       "2        2480           6.3          2015  1.012000e+08  2.716190e+08  \n",
       "3        5292           7.5          2015  1.839999e+08  1.902723e+09  \n",
       "4        2947           7.3          2015  1.747999e+08  1.385749e+09  "
      ]
     },
     "execution_count": 176,
     "metadata": {},
     "output_type": "execute_result"
    }
   ],
   "source": [
    "movies_df.head()"
   ]
  },
  {
   "cell_type": "markdown",
   "metadata": {},
   "source": [
    "### B. Are there any duplicate rows in the movie dataset?"
   ]
  },
  {
   "cell_type": "code",
   "execution_count": 177,
   "metadata": {
    "collapsed": false
   },
   "outputs": [
    {
     "data": {
      "text/plain": [
       "1"
      ]
     },
     "execution_count": 177,
     "metadata": {},
     "output_type": "execute_result"
    }
   ],
   "source": [
    "sum(movies_df.duplicated())"
   ]
  },
  {
   "cell_type": "markdown",
   "metadata": {},
   "source": [
    "There is one duplicate record."
   ]
  },
  {
   "cell_type": "markdown",
   "metadata": {},
   "source": [
    "### Show the duplicate row"
   ]
  },
  {
   "cell_type": "code",
   "execution_count": 178,
   "metadata": {
    "collapsed": false
   },
   "outputs": [
    {
     "name": "stdout",
     "output_type": "stream",
     "text": [
      "id                                                      42194\n",
      "popularity                                            0.59643\n",
      "budget                                               30000000\n",
      "revenue                                                967000\n",
      "original_title                                         TEKKEN\n",
      "runtime                                                    92\n",
      "genres            Crime|Drama|Action|Thriller|Science Fiction\n",
      "release_date                                          3/20/10\n",
      "vote_count                                                110\n",
      "vote_average                                                5\n",
      "release_year                                             2010\n",
      "budget_adj                                              3e+07\n",
      "revenue_adj                                            967000\n",
      "Name: 2090, dtype: object\n"
     ]
    }
   ],
   "source": [
    "for i, v in movies_df.duplicated().iteritems():\n",
    "    if (v):\n",
    "        print (movies_df.loc[i])"
   ]
  },
  {
   "cell_type": "markdown",
   "metadata": {},
   "source": [
    "This is a duplicate record and should be removed from the dataset."
   ]
  },
  {
   "cell_type": "markdown",
   "metadata": {},
   "source": [
    "### Remove the duplicate record."
   ]
  },
  {
   "cell_type": "code",
   "execution_count": 179,
   "metadata": {
    "collapsed": true
   },
   "outputs": [],
   "source": [
    "movies_df.drop_duplicates(inplace = True)"
   ]
  },
  {
   "cell_type": "markdown",
   "metadata": {},
   "source": [
    "### Confirm that there are no duplicates"
   ]
  },
  {
   "cell_type": "code",
   "execution_count": 180,
   "metadata": {
    "collapsed": false
   },
   "outputs": [
    {
     "data": {
      "text/plain": [
       "0"
      ]
     },
     "execution_count": 180,
     "metadata": {},
     "output_type": "execute_result"
    }
   ],
   "source": [
    "sum(movies_df.duplicated())"
   ]
  },
  {
   "cell_type": "markdown",
   "metadata": {
    "collapsed": true
   },
   "source": [
    "### C.  Cleaning Missing Data in Genres\n",
    "\n",
    "There are several missing values on \"genres\" from the movie dataset.  There were only 0.212 % (23 records) missing in the Genres column.  Since there are so few missing values, I replaced the missing genre values with the most common value in this column.   "
   ]
  },
  {
   "cell_type": "code",
   "execution_count": 181,
   "metadata": {
    "collapsed": false
   },
   "outputs": [
    {
     "data": {
      "text/plain": [
       "Drama                                             735\n",
       "Comedy                                            712\n",
       "Documentary                                       312\n",
       "Drama|Romance                                     289\n",
       "Comedy|Drama                                      280\n",
       "Comedy|Romance                                    268\n",
       "Horror|Thriller                                   259\n",
       "Horror                                            253\n",
       "Comedy|Drama|Romance                              222\n",
       "Drama|Thriller                                    138\n",
       "Comedy|Family                                     102\n",
       "Action|Thriller                                   101\n",
       "Thriller                                           93\n",
       "Drama|Comedy                                       92\n",
       "Animation|Family                                   90\n",
       "Crime|Drama|Thriller                               81\n",
       "Crime|Drama                                        74\n",
       "Comedy|Horror                                      72\n",
       "Drama|Comedy|Romance                               64\n",
       "Action                                             63\n",
       "Action|Comedy                                      62\n",
       "Drama|History                                      58\n",
       "Action|Crime|Drama|Thriller                        54\n",
       "Drama|Horror|Thriller                              53\n",
       "Horror|Science Fiction                             52\n",
       "Action|Crime|Thriller                              52\n",
       "Horror|Mystery|Thriller                            51\n",
       "Comedy|Crime                                       50\n",
       "Drama|Music                                        49\n",
       "Documentary|Music                                  49\n",
       "                                                 ... \n",
       "Mystery|Comedy|Crime                                1\n",
       "Fantasy|Animation|Comedy|Drama                      1\n",
       "Drama|Music|Adventure|Fantasy                       1\n",
       "Drama|Thriller|Mystery|Action                       1\n",
       "Thriller|Crime|Science Fiction                      1\n",
       "Comedy|Family|Adventure|Crime                       1\n",
       "Action|Fantasy|Horror|Thriller                      1\n",
       "Fantasy|Action|Adventure|Family|Comedy              1\n",
       "History|Drama|Family                                1\n",
       "Adventure|TV Movie                                  1\n",
       "Action|Science Fiction|Thriller|Crime               1\n",
       "Drama|Fantasy|Adventure                             1\n",
       "Comedy|Thriller|Music|Romance                       1\n",
       "Adventure|Fantasy|Drama|Thriller                    1\n",
       "Science Fiction|Thriller|Fantasy                    1\n",
       "Adventure|Fantasy|Mystery                           1\n",
       "Fantasy|Thriller|Horror|Science Fiction             1\n",
       "Thriller|Science Fiction|Foreign                    1\n",
       "Action|Comedy|Crime|Mystery|Family                  1\n",
       "Comedy|History|Horror                               1\n",
       "Fantasy|Animation|Family|Comedy                     1\n",
       "Mystery|Adventure|Comedy|Romance|Drama              1\n",
       "Thriller|Documentary                                1\n",
       "History|Drama|Western|Crime                         1\n",
       "Foreign|Romance|Thriller                            1\n",
       "Documentary|Comedy|TV Movie                         1\n",
       "Mystery|Animation|Comedy|Fantasy                    1\n",
       "Action|Science Fiction|Adventure|Comedy|Family      1\n",
       "Drama|Action|Adventure                              1\n",
       "Adventure|War|Drama|History                         1\n",
       "Name: genres, dtype: int64"
      ]
     },
     "execution_count": 181,
     "metadata": {},
     "output_type": "execute_result"
    }
   ],
   "source": [
    "# Fill empty/NaN genre values with the most common genre value\n",
    "movies_df['genres'] = movies_df['genres'].fillna(value=(movies_df['genres'].value_counts().idxmax\n",
    "()))\n",
    "\n",
    "# Print unique genres and their counts\n",
    "movies_df['genres'].value_counts()"
   ]
  },
  {
   "cell_type": "markdown",
   "metadata": {
    "collapsed": false
   },
   "source": [
    "I have replaced the missing genre values with the most common value of the column. The missing values are now filled."
   ]
  },
  {
   "cell_type": "code",
   "execution_count": 182,
   "metadata": {
    "collapsed": false
   },
   "outputs": [
    {
     "data": {
      "text/plain": [
       "count     10865\n",
       "unique     2039\n",
       "top       Drama\n",
       "freq        735\n",
       "Name: genres, dtype: object"
      ]
     },
     "execution_count": 182,
     "metadata": {},
     "output_type": "execute_result"
    }
   ],
   "source": [
    "# Let's check the count in the genre column\n",
    "movies_df['genres'].describe()"
   ]
  },
  {
   "cell_type": "markdown",
   "metadata": {},
   "source": [
    "\"count\" is the total number of values in column. After filling in with the most common values, genre now shows that there are no missing values. It has 10865 records which is the total number of entries of the movie dataset.\n",
    "\"top\" describes the most common value which is the \"Drama\" genre. \"freq\" is the most common value frequency.  As such, the \"Drama\" genre frequency is 735. \n",
    "\"unique\" returns an array of all unique values in the column, which is 2039."
   ]
  },
  {
   "cell_type": "markdown",
   "metadata": {},
   "source": [
    "#### Now, let's verify if there are any missing values in genre by using the .info() function."
   ]
  },
  {
   "cell_type": "code",
   "execution_count": 183,
   "metadata": {
    "collapsed": false
   },
   "outputs": [
    {
     "name": "stdout",
     "output_type": "stream",
     "text": [
      "<class 'pandas.core.frame.DataFrame'>\n",
      "Int64Index: 10865 entries, 0 to 10865\n",
      "Data columns (total 13 columns):\n",
      "id                10865 non-null int64\n",
      "popularity        10865 non-null float64\n",
      "budget            10865 non-null int64\n",
      "revenue           10865 non-null int64\n",
      "original_title    10865 non-null object\n",
      "runtime           10865 non-null int64\n",
      "genres            10865 non-null object\n",
      "release_date      10865 non-null object\n",
      "vote_count        10865 non-null int64\n",
      "vote_average      10865 non-null float64\n",
      "release_year      10865 non-null int64\n",
      "budget_adj        10865 non-null float64\n",
      "revenue_adj       10865 non-null float64\n",
      "dtypes: float64(4), int64(6), object(3)\n",
      "memory usage: 1.2+ MB\n"
     ]
    }
   ],
   "source": [
    "movies_df.info()"
   ]
  },
  {
   "cell_type": "markdown",
   "metadata": {},
   "source": [
    "As you can see in the above information, the missing values are filled in genres.  In addition, the rest of the columns shows \"non-null\". "
   ]
  },
  {
   "cell_type": "code",
   "execution_count": 184,
   "metadata": {
    "collapsed": false
   },
   "outputs": [
    {
     "name": "stdout",
     "output_type": "stream",
     "text": [
      "False\n"
     ]
    }
   ],
   "source": [
    "# Let's check again to see if there are any missing values?\n",
    "print movies_df.isnull().values.any()"
   ]
  },
  {
   "cell_type": "code",
   "execution_count": 185,
   "metadata": {
    "collapsed": false
   },
   "outputs": [
    {
     "name": "stdout",
     "output_type": "stream",
     "text": [
      "id                0\n",
      "popularity        0\n",
      "budget            0\n",
      "revenue           0\n",
      "original_title    0\n",
      "runtime           0\n",
      "genres            0\n",
      "release_date      0\n",
      "vote_count        0\n",
      "vote_average      0\n",
      "release_year      0\n",
      "budget_adj        0\n",
      "revenue_adj       0\n",
      "dtype: int64\n"
     ]
    }
   ],
   "source": [
    "# Total missing values for each feature\n",
    "print movies_df.isnull().sum()"
   ]
  },
  {
   "cell_type": "markdown",
   "metadata": {},
   "source": [
    "To the best of my knowledge, I have completed the data cleaning process.  It is now time to do exploratory data analysis."
   ]
  },
  {
   "cell_type": "markdown",
   "metadata": {},
   "source": [
    "<a id='eda'></a>\n",
    "## Exploratory Data Analysis\n",
    "\n",
    "> I have trimmed and cleaned my data, I am ready to move on to data exploration. I will be computing statistics and creating visualizations with the goal of addressing the research questions that I had posed in the Introduction section. \n",
    "\n",
    "### Research Question 1  \n",
    "### What is the movie production pattern year over year?"
   ]
  },
  {
   "cell_type": "code",
   "execution_count": 186,
   "metadata": {
    "collapsed": false
   },
   "outputs": [
    {
     "data": {
      "image/png": "[encoded data removed]",
      "text/plain": [
       "<matplotlib.figure.Figure at 0xf315e48>"
      ]
     },
     "metadata": {},
     "output_type": "display_data"
    }
   ],
   "source": [
    "# Movie Distribution\n",
    "movies_year_over_year = movies_df['release_year'].value_counts().sort_index();\n",
    "plt.plot(movies_year_over_year, color='r');\n",
    "plt.title('Year over Year Movie Patterns');\n",
    "plt.xlabel('Year');\n",
    "plt.ylabel('Number of Movies Released');\n",
    "\n"
   ]
  },
  {
   "cell_type": "markdown",
   "metadata": {},
   "source": [
    "From the graph above, we know that the production of movies has increased tremendously over the years.  There is a demand for movies by the public.  This is a great indicator that the movie production companies should continue to produce movies for public consumption."
   ]
  },
  {
   "cell_type": "markdown",
   "metadata": {},
   "source": [
    "### Research Question 2\n",
    "### Which genres are popular?"
   ]
  },
  {
   "cell_type": "markdown",
   "metadata": {},
   "source": [
    "I now know from the line graph above, the movie production has increased over the years. Movies are very much in demand.  But which genre is being produced the most by the production companies? Does the type of genre dictate how production companies generate the most revenue? Let's figure out which genres are popular."
   ]
  },
  {
   "cell_type": "code",
   "execution_count": 187,
   "metadata": {
    "collapsed": false
   },
   "outputs": [
    {
     "data": {
      "text/html": [
       "<div>\n",
       "<table border=\"1\" class=\"dataframe\">\n",
       "  <thead>\n",
       "    <tr style=\"text-align: right;\">\n",
       "      <th></th>\n",
       "      <th>id</th>\n",
       "      <th>popularity</th>\n",
       "      <th>budget</th>\n",
       "      <th>revenue</th>\n",
       "      <th>original_title</th>\n",
       "      <th>runtime</th>\n",
       "      <th>genres</th>\n",
       "      <th>release_date</th>\n",
       "      <th>vote_count</th>\n",
       "      <th>vote_average</th>\n",
       "      <th>release_year</th>\n",
       "      <th>budget_adj</th>\n",
       "      <th>revenue_adj</th>\n",
       "    </tr>\n",
       "  </thead>\n",
       "  <tbody>\n",
       "    <tr>\n",
       "      <th>0</th>\n",
       "      <td>135397</td>\n",
       "      <td>32.985763</td>\n",
       "      <td>150000000</td>\n",
       "      <td>1513528810</td>\n",
       "      <td>Jurassic World</td>\n",
       "      <td>124</td>\n",
       "      <td>Action|Adventure|Science Fiction|Thriller</td>\n",
       "      <td>6/9/15</td>\n",
       "      <td>5562</td>\n",
       "      <td>6.5</td>\n",
       "      <td>2015</td>\n",
       "      <td>1.379999e+08</td>\n",
       "      <td>1.392446e+09</td>\n",
       "    </tr>\n",
       "  </tbody>\n",
       "</table>\n",
       "</div>"
      ],
      "text/plain": [
       "       id  popularity     budget     revenue  original_title  runtime  \\\n",
       "0  135397   32.985763  150000000  1513528810  Jurassic World      124   \n",
       "\n",
       "                                      genres release_date  vote_count  \\\n",
       "0  Action|Adventure|Science Fiction|Thriller       6/9/15        5562   \n",
       "\n",
       "   vote_average  release_year    budget_adj   revenue_adj  \n",
       "0           6.5          2015  1.379999e+08  1.392446e+09  "
      ]
     },
     "execution_count": 187,
     "metadata": {},
     "output_type": "execute_result"
    }
   ],
   "source": [
    "# Prepare the Dataframe\n",
    "movie_genres = movies_df.copy()\n",
    "# Check the columns in the movie_genres dataframe\n",
    "movie_genres.head(1)\n"
   ]
  },
  {
   "cell_type": "code",
   "execution_count": 188,
   "metadata": {
    "collapsed": false
   },
   "outputs": [
    {
     "data": {
      "text/html": [
       "<div>\n",
       "<table border=\"1\" class=\"dataframe\">\n",
       "  <thead>\n",
       "    <tr style=\"text-align: right;\">\n",
       "      <th></th>\n",
       "      <th>id</th>\n",
       "      <th>genres</th>\n",
       "    </tr>\n",
       "  </thead>\n",
       "  <tbody>\n",
       "    <tr>\n",
       "      <th>0</th>\n",
       "      <td>135397</td>\n",
       "      <td>Action|Adventure|Science Fiction|Thriller</td>\n",
       "    </tr>\n",
       "    <tr>\n",
       "      <th>1</th>\n",
       "      <td>76341</td>\n",
       "      <td>Action|Adventure|Science Fiction|Thriller</td>\n",
       "    </tr>\n",
       "    <tr>\n",
       "      <th>2</th>\n",
       "      <td>262500</td>\n",
       "      <td>Adventure|Science Fiction|Thriller</td>\n",
       "    </tr>\n",
       "    <tr>\n",
       "      <th>3</th>\n",
       "      <td>140607</td>\n",
       "      <td>Action|Adventure|Science Fiction|Fantasy</td>\n",
       "    </tr>\n",
       "    <tr>\n",
       "      <th>4</th>\n",
       "      <td>168259</td>\n",
       "      <td>Action|Crime|Thriller</td>\n",
       "    </tr>\n",
       "  </tbody>\n",
       "</table>\n",
       "</div>"
      ],
      "text/plain": [
       "       id                                     genres\n",
       "0  135397  Action|Adventure|Science Fiction|Thriller\n",
       "1   76341  Action|Adventure|Science Fiction|Thriller\n",
       "2  262500         Adventure|Science Fiction|Thriller\n",
       "3  140607   Action|Adventure|Science Fiction|Fantasy\n",
       "4  168259                      Action|Crime|Thriller"
      ]
     },
     "execution_count": 188,
     "metadata": {},
     "output_type": "execute_result"
    }
   ],
   "source": [
    "# In this research question the focus of our analysis are genres.  So, I am going \n",
    "# to pay particular attention to the 'id'  and 'genre' column.\n",
    "\n",
    "# Choose all the rows\n",
    "# Select the 'id' and 'genres' column\n",
    "genre = movie_genres.loc[:,['id','genres']]\n",
    "# Inspect the first five rows\n",
    "genre.head(5)"
   ]
  },
  {
   "cell_type": "code",
   "execution_count": 189,
   "metadata": {
    "collapsed": false
   },
   "outputs": [
    {
     "data": {
      "text/plain": [
       "[['Action', 'Adventure', 'Science Fiction', 'Thriller'],\n",
       " ['Action', 'Adventure', 'Science Fiction', 'Thriller'],\n",
       " ['Adventure', 'Science Fiction', 'Thriller']]"
      ]
     },
     "execution_count": 189,
     "metadata": {},
     "output_type": "execute_result"
    }
   ],
   "source": [
    "# Let's split the genres at the pipe and add to a list\n",
    "genre_list = genre['genres'].str.split('|').tolist()\n",
    "# Inspect the first 3 elements on the list\n",
    "genre_list[:3]"
   ]
  },
  {
   "cell_type": "markdown",
   "metadata": {},
   "source": [
    "Genres are now split"
   ]
  },
  {
   "cell_type": "code",
   "execution_count": 190,
   "metadata": {
    "collapsed": true
   },
   "outputs": [],
   "source": [
    "# Loop through each nested list in genre_list.\n",
    "# Check that each genre_list is a list and convert to list\n",
    "# We are using isinstance function which returns a Boolean(True or False). It checks\n",
    "# to see if the object passed in the first argument is of the type of any of the \n",
    "# type objects passed in the second argument.\n",
    "# If genre_list is not a list then it returns false and loop will be repeated\n",
    "# If data type is not a list then a TypeError exception is raised and loop will be repeated\n",
    "# Continue with this process until we reach the last element on the genre_list\n",
    "for i in range(len(genre_list)):\n",
    "    if not isinstance(genre_list[i], list):\n",
    "        genre_list[i] = [genre_list[i]]\n",
    "        \n"
   ]
  },
  {
   "cell_type": "markdown",
   "metadata": {},
   "source": [
    "#### Let's check to see how the data is formatted on the genre list."
   ]
  },
  {
   "cell_type": "code",
   "execution_count": 191,
   "metadata": {
    "collapsed": true
   },
   "outputs": [],
   "source": [
    "check_genre = pd.DataFrame(genre_list, index=genre['id'])"
   ]
  },
  {
   "cell_type": "code",
   "execution_count": 192,
   "metadata": {
    "collapsed": false
   },
   "outputs": [
    {
     "name": "stdout",
     "output_type": "stream",
     "text": [
      "                0                1                2         3     4\n",
      "id                                                                 \n",
      "135397     Action        Adventure  Science Fiction  Thriller  None\n",
      "76341      Action        Adventure  Science Fiction  Thriller  None\n",
      "262500  Adventure  Science Fiction         Thriller      None  None\n",
      "140607     Action        Adventure  Science Fiction   Fantasy  None\n",
      "168259     Action            Crime         Thriller      None  None\n"
     ]
    }
   ],
   "source": [
    "print(check_genre.head())"
   ]
  },
  {
   "cell_type": "code",
   "execution_count": 193,
   "metadata": {
    "collapsed": true
   },
   "outputs": [],
   "source": [
    "# Let's reshape the data format above. Why? From the result above, there are\n",
    "# multiple columns with an individual genre value per id,\n",
    "# I am going to create a new dataframe(stacked_genre) using genre_list and the id column \n",
    "# of the 'genre' dataframe as the index.  To reshape the data format, I need\n",
    "# to apply .stack() to pivot the data.\n",
    "# https://pandas.pydata.org/pandas-docs/stable/reshaping.html"
   ]
  },
  {
   "cell_type": "code",
   "execution_count": 194,
   "metadata": {
    "collapsed": true
   },
   "outputs": [],
   "source": [
    "stacked_genre = pd.DataFrame(genre_list, index=genre['id']).stack()"
   ]
  },
  {
   "cell_type": "code",
   "execution_count": 195,
   "metadata": {
    "collapsed": false
   },
   "outputs": [
    {
     "name": "stdout",
     "output_type": "stream",
     "text": [
      "id       \n",
      "135397  0             Action\n",
      "        1          Adventure\n",
      "        2    Science Fiction\n",
      "        3           Thriller\n",
      "76341   0             Action\n",
      "dtype: object\n"
     ]
    }
   ],
   "source": [
    "print(stacked_genre.head())"
   ]
  },
  {
   "cell_type": "code",
   "execution_count": 196,
   "metadata": {
    "collapsed": true
   },
   "outputs": [],
   "source": [
    "# Since the \"id\" has become the index then we want to reset this \n",
    "stacked_genre = stacked_genre.reset_index()"
   ]
  },
  {
   "cell_type": "code",
   "execution_count": 197,
   "metadata": {
    "collapsed": false
   },
   "outputs": [
    {
     "name": "stdout",
     "output_type": "stream",
     "text": [
      "       id  level_1                0\n",
      "0  135397        0           Action\n",
      "1  135397        1        Adventure\n",
      "2  135397        2  Science Fiction\n",
      "3  135397        3         Thriller\n",
      "4   76341        0           Action\n"
     ]
    }
   ],
   "source": [
    "print(stacked_genre.head())"
   ]
  },
  {
   "cell_type": "markdown",
   "metadata": {},
   "source": [
    "As seen above, I have the following index \"0\", \"1\",......\"4\".  It is a good practice to \n",
    "have indexes so I can extract unique genres from the dataframe."
   ]
  },
  {
   "cell_type": "code",
   "execution_count": 198,
   "metadata": {
    "collapsed": true
   },
   "outputs": [],
   "source": [
    "# Let's get rid of \"level_1\" column.  I do not need it.\n",
    "stacked_genre = stacked_genre.loc[:, ['id', 0]]"
   ]
  },
  {
   "cell_type": "code",
   "execution_count": 199,
   "metadata": {
    "collapsed": false
   },
   "outputs": [
    {
     "name": "stdout",
     "output_type": "stream",
     "text": [
      "       id                0\n",
      "0  135397           Action\n",
      "1  135397        Adventure\n",
      "2  135397  Science Fiction\n",
      "3  135397         Thriller\n",
      "4   76341           Action\n"
     ]
    }
   ],
   "source": [
    "print(stacked_genre.head())"
   ]
  },
  {
   "cell_type": "code",
   "execution_count": 200,
   "metadata": {
    "collapsed": true
   },
   "outputs": [],
   "source": [
    "# Now, let's rename the \"0\" column to \"genre\"\n",
    "stacked_genre.columns = ['id', 'genre']"
   ]
  },
  {
   "cell_type": "code",
   "execution_count": 201,
   "metadata": {
    "collapsed": false
   },
   "outputs": [
    {
     "name": "stdout",
     "output_type": "stream",
     "text": [
      "       id            genre\n",
      "0  135397           Action\n",
      "1  135397        Adventure\n",
      "2  135397  Science Fiction\n",
      "3  135397         Thriller\n",
      "4   76341           Action\n"
     ]
    }
   ],
   "source": [
    "print(stacked_genre.head())"
   ]
  },
  {
   "cell_type": "code",
   "execution_count": 202,
   "metadata": {
    "collapsed": false
   },
   "outputs": [],
   "source": [
    "# Merge stacked_genre and movie_genres and drop columns we do not need\n",
    "merged_df = pd.merge(movie_genres, stacked_genre, on='id', how='left')\n",
    "# We will drop the \"genres\" and \"id\" column so we have clear breakdown of columns with \n",
    "# proper genre splits and indexes\n",
    "merged_df.drop(['genres', 'id'], axis=1, inplace=True)"
   ]
  },
  {
   "cell_type": "code",
   "execution_count": 203,
   "metadata": {
    "collapsed": false
   },
   "outputs": [
    {
     "data": {
      "text/html": [
       "<div>\n",
       "<table border=\"1\" class=\"dataframe\">\n",
       "  <thead>\n",
       "    <tr style=\"text-align: right;\">\n",
       "      <th></th>\n",
       "      <th>popularity</th>\n",
       "      <th>budget</th>\n",
       "      <th>revenue</th>\n",
       "      <th>original_title</th>\n",
       "      <th>runtime</th>\n",
       "      <th>release_date</th>\n",
       "      <th>vote_count</th>\n",
       "      <th>vote_average</th>\n",
       "      <th>release_year</th>\n",
       "      <th>budget_adj</th>\n",
       "      <th>revenue_adj</th>\n",
       "      <th>genre</th>\n",
       "    </tr>\n",
       "  </thead>\n",
       "  <tbody>\n",
       "    <tr>\n",
       "      <th>0</th>\n",
       "      <td>32.985763</td>\n",
       "      <td>150000000</td>\n",
       "      <td>1513528810</td>\n",
       "      <td>Jurassic World</td>\n",
       "      <td>124</td>\n",
       "      <td>6/9/15</td>\n",
       "      <td>5562</td>\n",
       "      <td>6.5</td>\n",
       "      <td>2015</td>\n",
       "      <td>1.379999e+08</td>\n",
       "      <td>1.392446e+09</td>\n",
       "      <td>Action</td>\n",
       "    </tr>\n",
       "    <tr>\n",
       "      <th>1</th>\n",
       "      <td>32.985763</td>\n",
       "      <td>150000000</td>\n",
       "      <td>1513528810</td>\n",
       "      <td>Jurassic World</td>\n",
       "      <td>124</td>\n",
       "      <td>6/9/15</td>\n",
       "      <td>5562</td>\n",
       "      <td>6.5</td>\n",
       "      <td>2015</td>\n",
       "      <td>1.379999e+08</td>\n",
       "      <td>1.392446e+09</td>\n",
       "      <td>Adventure</td>\n",
       "    </tr>\n",
       "    <tr>\n",
       "      <th>2</th>\n",
       "      <td>32.985763</td>\n",
       "      <td>150000000</td>\n",
       "      <td>1513528810</td>\n",
       "      <td>Jurassic World</td>\n",
       "      <td>124</td>\n",
       "      <td>6/9/15</td>\n",
       "      <td>5562</td>\n",
       "      <td>6.5</td>\n",
       "      <td>2015</td>\n",
       "      <td>1.379999e+08</td>\n",
       "      <td>1.392446e+09</td>\n",
       "      <td>Science Fiction</td>\n",
       "    </tr>\n",
       "    <tr>\n",
       "      <th>3</th>\n",
       "      <td>32.985763</td>\n",
       "      <td>150000000</td>\n",
       "      <td>1513528810</td>\n",
       "      <td>Jurassic World</td>\n",
       "      <td>124</td>\n",
       "      <td>6/9/15</td>\n",
       "      <td>5562</td>\n",
       "      <td>6.5</td>\n",
       "      <td>2015</td>\n",
       "      <td>1.379999e+08</td>\n",
       "      <td>1.392446e+09</td>\n",
       "      <td>Thriller</td>\n",
       "    </tr>\n",
       "    <tr>\n",
       "      <th>4</th>\n",
       "      <td>28.419936</td>\n",
       "      <td>150000000</td>\n",
       "      <td>378436354</td>\n",
       "      <td>Mad Max: Fury Road</td>\n",
       "      <td>120</td>\n",
       "      <td>5/13/15</td>\n",
       "      <td>6185</td>\n",
       "      <td>7.1</td>\n",
       "      <td>2015</td>\n",
       "      <td>1.379999e+08</td>\n",
       "      <td>3.481613e+08</td>\n",
       "      <td>Action</td>\n",
       "    </tr>\n",
       "  </tbody>\n",
       "</table>\n",
       "</div>"
      ],
      "text/plain": [
       "   popularity     budget     revenue      original_title  runtime  \\\n",
       "0   32.985763  150000000  1513528810      Jurassic World      124   \n",
       "1   32.985763  150000000  1513528810      Jurassic World      124   \n",
       "2   32.985763  150000000  1513528810      Jurassic World      124   \n",
       "3   32.985763  150000000  1513528810      Jurassic World      124   \n",
       "4   28.419936  150000000   378436354  Mad Max: Fury Road      120   \n",
       "\n",
       "  release_date  vote_count  vote_average  release_year    budget_adj  \\\n",
       "0       6/9/15        5562           6.5          2015  1.379999e+08   \n",
       "1       6/9/15        5562           6.5          2015  1.379999e+08   \n",
       "2       6/9/15        5562           6.5          2015  1.379999e+08   \n",
       "3       6/9/15        5562           6.5          2015  1.379999e+08   \n",
       "4      5/13/15        6185           7.1          2015  1.379999e+08   \n",
       "\n",
       "    revenue_adj            genre  \n",
       "0  1.392446e+09           Action  \n",
       "1  1.392446e+09        Adventure  \n",
       "2  1.392446e+09  Science Fiction  \n",
       "3  1.392446e+09         Thriller  \n",
       "4  3.481613e+08           Action  "
      ]
     },
     "execution_count": 203,
     "metadata": {},
     "output_type": "execute_result"
    }
   ],
   "source": [
    "# Let's inspect the first five rows with its columns\n",
    "merged_df.head()"
   ]
  },
  {
   "cell_type": "code",
   "execution_count": 204,
   "metadata": {
    "collapsed": false
   },
   "outputs": [
    {
     "data": {
      "image/png": "[encoded data removed]",
      "text/plain": [
       "<matplotlib.figure.Figure at 0x11565320>"
      ]
     },
     "metadata": {},
     "output_type": "display_data"
    }
   ],
   "source": [
    "# Let's visualize the genres using a bar graph\n",
    "merged_df['genre'].value_counts().plot(kind='bar', figsize=(16, 8));\n",
    "plt.title('Most Popular Genres', fontsize = '18');\n",
    "plt.xlabel('Genres', fontsize = '18');\n",
    "plt.ylabel('Number of Movies Released', fontsize = '18');"
   ]
  },
  {
   "cell_type": "markdown",
   "metadata": {},
   "source": [
    "\"Drama\" is the most common genre amongst the movie releases. It clearly shows that this genre continue to be popular with the production companies. The second most popular genre is \"Comedy\" followed by the third popular genre which is \"Thriller\".  Films within the drama, comedy, thriller and action genres generated the most movie releases.  The bar graph above gives a good indication to movie production companies as to which genres that they need to produce for public viewing comsumption."
   ]
  },
  {
   "cell_type": "markdown",
   "metadata": {},
   "source": [
    "### Research Question 3\n",
    "### What are the top 10 movies with the highest revenue?"
   ]
  },
  {
   "cell_type": "markdown",
   "metadata": {},
   "source": [
    "I want to find out which specific movies brought the most box office revenues between 1966 and 2015."
   ]
  },
  {
   "cell_type": "code",
   "execution_count": 205,
   "metadata": {
    "collapsed": false
   },
   "outputs": [
    {
     "data": {
      "image/png": "[encoded data removed]",
      "text/plain": [
       "<matplotlib.figure.Figure at 0x13100b00>"
      ]
     },
     "metadata": {},
     "output_type": "display_data"
    }
   ],
   "source": [
    "# Sort the revenues starting with the higest dollar amount up to 10 records\n",
    "sorted_revenue = movies_df['revenue'].sort_values(ascending=False)[:10]\n",
    "\n",
    "# Create a new dataframe (\"high_revenues\") so we can store the result in a list.\n",
    "# We are looping through records that has top 10 revenues in dollars and \n",
    "# extracting through a column, namely\"original_title\" of this dataframe(\"high_revenues\"). \n",
    "# The result is a list of movie titles with the top 10 revenues.\n",
    "# To see the result, I plotted a bar graph and a table.\n",
    "\n",
    "high_revenues=pd.DataFrame()\n",
    "titles=[]\n",
    "revenues=[]\n",
    "for i in sorted_revenue.index:\n",
    "    titles.append(movies_df.loc[i,'original_title'])\n",
    "    revenues.append(sorted_revenue.loc[i])\n",
    "high_revenues['Movie Titles']=titles\n",
    "high_revenues['Revenues']=revenues\n",
    "high_revenues.set_index('Movie Titles',inplace=True)\n",
    "high_revenues.plot(kind ='bar',color = '#007482', figsize=(8,8))\n",
    "plt.title('Top 10 movies with the highest revenue (1966 - 2015) ');\n",
    "plt.ylabel('Revenue in billions ($)');\n"
   ]
  },
  {
   "cell_type": "code",
   "execution_count": 206,
   "metadata": {
    "collapsed": false
   },
   "outputs": [
    {
     "data": {
      "text/html": [
       "<div>\n",
       "<table border=\"1\" class=\"dataframe\">\n",
       "  <thead>\n",
       "    <tr style=\"text-align: right;\">\n",
       "      <th></th>\n",
       "      <th>Revenues</th>\n",
       "    </tr>\n",
       "    <tr>\n",
       "      <th>Movie Titles</th>\n",
       "      <th></th>\n",
       "    </tr>\n",
       "  </thead>\n",
       "  <tbody>\n",
       "    <tr>\n",
       "      <th>Avatar</th>\n",
       "      <td>2781505847</td>\n",
       "    </tr>\n",
       "    <tr>\n",
       "      <th>Star Wars: The Force Awakens</th>\n",
       "      <td>2068178225</td>\n",
       "    </tr>\n",
       "    <tr>\n",
       "      <th>Titanic</th>\n",
       "      <td>1845034188</td>\n",
       "    </tr>\n",
       "    <tr>\n",
       "      <th>The Avengers</th>\n",
       "      <td>1519557910</td>\n",
       "    </tr>\n",
       "    <tr>\n",
       "      <th>Jurassic World</th>\n",
       "      <td>1513528810</td>\n",
       "    </tr>\n",
       "    <tr>\n",
       "      <th>Furious 7</th>\n",
       "      <td>1506249360</td>\n",
       "    </tr>\n",
       "    <tr>\n",
       "      <th>Avengers: Age of Ultron</th>\n",
       "      <td>1405035767</td>\n",
       "    </tr>\n",
       "    <tr>\n",
       "      <th>Harry Potter and the Deathly Hallows: Part 2</th>\n",
       "      <td>1327817822</td>\n",
       "    </tr>\n",
       "    <tr>\n",
       "      <th>Frozen</th>\n",
       "      <td>1274219009</td>\n",
       "    </tr>\n",
       "    <tr>\n",
       "      <th>Iron Man 3</th>\n",
       "      <td>1215439994</td>\n",
       "    </tr>\n",
       "  </tbody>\n",
       "</table>\n",
       "</div>"
      ],
      "text/plain": [
       "                                                Revenues\n",
       "Movie Titles                                            \n",
       "Avatar                                        2781505847\n",
       "Star Wars: The Force Awakens                  2068178225\n",
       "Titanic                                       1845034188\n",
       "The Avengers                                  1519557910\n",
       "Jurassic World                                1513528810\n",
       "Furious 7                                     1506249360\n",
       "Avengers: Age of Ultron                       1405035767\n",
       "Harry Potter and the Deathly Hallows: Part 2  1327817822\n",
       "Frozen                                        1274219009\n",
       "Iron Man 3                                    1215439994"
      ]
     },
     "execution_count": 206,
     "metadata": {},
     "output_type": "execute_result"
    }
   ],
   "source": [
    "# From the code above we created the \"high_revenues\" dataframe and assigned \"Movie Titles\" \n",
    "# as the index for this dataframe. The column \"Revenues\" has top ten highest grossing movies.\n",
    "# The \"high_revenues\" table would look like as follows:\n",
    "\n",
    "high_revenues"
   ]
  },
  {
   "cell_type": "markdown",
   "metadata": {},
   "source": [
    "Movie with the highest box office revenue is \"Avatar\" with a revenue of approximately 2.8 billion dollars.  \"Star Wars:The Force Awakens\" came in second at about 2 billions dollars.  \"Titanic\" came in third at 1.8 billion dollars."
   ]
  },
  {
   "cell_type": "markdown",
   "metadata": {},
   "source": [
    "In the next set of investigation, we want to determine if there is a mutual reltionship between two quantitative variables. When we say mutual relationship, we are refering to \"correlation\". It measures the degree to which two variables are related, or move together.  Typically, correlation is the first step to understanding the relationship of two variables. \n",
    "\n",
    "In order to learn the relationship between the two variables, we first need to create and examine a scatter plot of the chosen variables to check for linearity.  The next step would be to calculate the measure of strength of this linear relationship between this paired data. There are multiple correlation statistics calculation but the most common one is Pearson's correlation coefficent. It is a statistical measure that calculates the magnitude of the association between the movements as as well as the direction of the two variables.  The coefficient ranges in value from -1 to 1.  Values close to 0 usually signifies no or weak relationship.  Positive correlations indicate the variable tend to move together, while negative correlations indicate the variable tend to move in opposite directions.\n",
    "\n",
    "Let's investigate..."
   ]
  },
  {
   "cell_type": "markdown",
   "metadata": {},
   "source": [
    "### Research Question 4\n",
    "### Does vote average ratings correlate with profits received from the movies?"
   ]
  },
  {
   "cell_type": "code",
   "execution_count": 207,
   "metadata": {
    "collapsed": false
   },
   "outputs": [
    {
     "data": {
      "text/html": [
       "<div>\n",
       "<table border=\"1\" class=\"dataframe\">\n",
       "  <thead>\n",
       "    <tr style=\"text-align: right;\">\n",
       "      <th></th>\n",
       "      <th>id</th>\n",
       "      <th>popularity</th>\n",
       "      <th>budget</th>\n",
       "      <th>revenue</th>\n",
       "      <th>profit</th>\n",
       "      <th>original_title</th>\n",
       "      <th>runtime</th>\n",
       "      <th>genres</th>\n",
       "      <th>release_date</th>\n",
       "      <th>vote_count</th>\n",
       "      <th>vote_average</th>\n",
       "      <th>release_year</th>\n",
       "      <th>budget_adj</th>\n",
       "      <th>revenue_adj</th>\n",
       "    </tr>\n",
       "  </thead>\n",
       "  <tbody>\n",
       "    <tr>\n",
       "      <th>0</th>\n",
       "      <td>135397</td>\n",
       "      <td>32.985763</td>\n",
       "      <td>150000000</td>\n",
       "      <td>1513528810</td>\n",
       "      <td>1363528810</td>\n",
       "      <td>Jurassic World</td>\n",
       "      <td>124</td>\n",
       "      <td>Action|Adventure|Science Fiction|Thriller</td>\n",
       "      <td>6/9/15</td>\n",
       "      <td>5562</td>\n",
       "      <td>6.5</td>\n",
       "      <td>2015</td>\n",
       "      <td>1.379999e+08</td>\n",
       "      <td>1.392446e+09</td>\n",
       "    </tr>\n",
       "    <tr>\n",
       "      <th>1</th>\n",
       "      <td>76341</td>\n",
       "      <td>28.419936</td>\n",
       "      <td>150000000</td>\n",
       "      <td>378436354</td>\n",
       "      <td>228436354</td>\n",
       "      <td>Mad Max: Fury Road</td>\n",
       "      <td>120</td>\n",
       "      <td>Action|Adventure|Science Fiction|Thriller</td>\n",
       "      <td>5/13/15</td>\n",
       "      <td>6185</td>\n",
       "      <td>7.1</td>\n",
       "      <td>2015</td>\n",
       "      <td>1.379999e+08</td>\n",
       "      <td>3.481613e+08</td>\n",
       "    </tr>\n",
       "    <tr>\n",
       "      <th>2</th>\n",
       "      <td>262500</td>\n",
       "      <td>13.112507</td>\n",
       "      <td>110000000</td>\n",
       "      <td>295238201</td>\n",
       "      <td>185238201</td>\n",
       "      <td>Insurgent</td>\n",
       "      <td>119</td>\n",
       "      <td>Adventure|Science Fiction|Thriller</td>\n",
       "      <td>3/18/15</td>\n",
       "      <td>2480</td>\n",
       "      <td>6.3</td>\n",
       "      <td>2015</td>\n",
       "      <td>1.012000e+08</td>\n",
       "      <td>2.716190e+08</td>\n",
       "    </tr>\n",
       "    <tr>\n",
       "      <th>3</th>\n",
       "      <td>140607</td>\n",
       "      <td>11.173104</td>\n",
       "      <td>200000000</td>\n",
       "      <td>2068178225</td>\n",
       "      <td>1868178225</td>\n",
       "      <td>Star Wars: The Force Awakens</td>\n",
       "      <td>136</td>\n",
       "      <td>Action|Adventure|Science Fiction|Fantasy</td>\n",
       "      <td>12/15/15</td>\n",
       "      <td>5292</td>\n",
       "      <td>7.5</td>\n",
       "      <td>2015</td>\n",
       "      <td>1.839999e+08</td>\n",
       "      <td>1.902723e+09</td>\n",
       "    </tr>\n",
       "    <tr>\n",
       "      <th>4</th>\n",
       "      <td>168259</td>\n",
       "      <td>9.335014</td>\n",
       "      <td>190000000</td>\n",
       "      <td>1506249360</td>\n",
       "      <td>1316249360</td>\n",
       "      <td>Furious 7</td>\n",
       "      <td>137</td>\n",
       "      <td>Action|Crime|Thriller</td>\n",
       "      <td>4/1/15</td>\n",
       "      <td>2947</td>\n",
       "      <td>7.3</td>\n",
       "      <td>2015</td>\n",
       "      <td>1.747999e+08</td>\n",
       "      <td>1.385749e+09</td>\n",
       "    </tr>\n",
       "  </tbody>\n",
       "</table>\n",
       "</div>"
      ],
      "text/plain": [
       "       id  popularity     budget     revenue      profit  \\\n",
       "0  135397   32.985763  150000000  1513528810  1363528810   \n",
       "1   76341   28.419936  150000000   378436354   228436354   \n",
       "2  262500   13.112507  110000000   295238201   185238201   \n",
       "3  140607   11.173104  200000000  2068178225  1868178225   \n",
       "4  168259    9.335014  190000000  1506249360  1316249360   \n",
       "\n",
       "                 original_title  runtime  \\\n",
       "0                Jurassic World      124   \n",
       "1            Mad Max: Fury Road      120   \n",
       "2                     Insurgent      119   \n",
       "3  Star Wars: The Force Awakens      136   \n",
       "4                     Furious 7      137   \n",
       "\n",
       "                                      genres release_date  vote_count  \\\n",
       "0  Action|Adventure|Science Fiction|Thriller       6/9/15        5562   \n",
       "1  Action|Adventure|Science Fiction|Thriller      5/13/15        6185   \n",
       "2         Adventure|Science Fiction|Thriller      3/18/15        2480   \n",
       "3   Action|Adventure|Science Fiction|Fantasy     12/15/15        5292   \n",
       "4                      Action|Crime|Thriller       4/1/15        2947   \n",
       "\n",
       "   vote_average  release_year    budget_adj   revenue_adj  \n",
       "0           6.5          2015  1.379999e+08  1.392446e+09  \n",
       "1           7.1          2015  1.379999e+08  3.481613e+08  \n",
       "2           6.3          2015  1.012000e+08  2.716190e+08  \n",
       "3           7.5          2015  1.839999e+08  1.902723e+09  \n",
       "4           7.3          2015  1.747999e+08  1.385749e+09  "
      ]
     },
     "execution_count": 207,
     "metadata": {},
     "output_type": "execute_result"
    }
   ],
   "source": [
    "# Let's figure out the profit values of each movie. Here are the steps for it:\n",
    "# We insert a new column which will hold the profit values of each movie.\n",
    "# The function first argument is an index number given to identify the new column.\n",
    "# The second argument takes the name of the new column,\"profit\" and finally we do the calculation \n",
    "# to output the profit in the new column.\n",
    "# Let's calculate the profit by subtracting the budget from the revenue of each movie\n",
    "movies_df.insert(4,'profit', movies_df['revenue'] - movies_df['budget'])\n",
    "# We change the datatype to int\n",
    "movies_df['profit'] = movies_df['profit'].apply(np.int64)\n",
    "# Let's check to see if the \"profit\" column shows up\n",
    "movies_df.head(5)"
   ]
  },
  {
   "cell_type": "markdown",
   "metadata": {},
   "source": [
    "I now have the 'profit' column."
   ]
  },
  {
   "cell_type": "markdown",
   "metadata": {},
   "source": [
    "### Let's see it visually using a scatter plot"
   ]
  },
  {
   "cell_type": "code",
   "execution_count": 208,
   "metadata": {
    "collapsed": false
   },
   "outputs": [
    {
     "data": {
      "image/png": "[encoded data removed]",
      "text/plain": [
       "<matplotlib.figure.Figure at 0x12f19198>"
      ]
     },
     "metadata": {},
     "output_type": "display_data"
    }
   ],
   "source": [
    "movies_df['profit'] = movies_df['revenue']- movies_df['budget']\n",
    "movies_df.plot(x='vote_average', y='profit',kind='scatter', color='green', figsize=(8,8));\n",
    "plt.ylabel('Profit in billions($)');\n",
    "plt.xlabel('Ratings');\n",
    "plt.title('Profits vs Ratings');"
   ]
  },
  {
   "cell_type": "markdown",
   "metadata": {},
   "source": [
    "### Calculating Correlation in Pandas"
   ]
  },
  {
   "cell_type": "code",
   "execution_count": 209,
   "metadata": {
    "collapsed": false
   },
   "outputs": [
    {
     "data": {
      "text/plain": [
       "0.18306721080232485"
      ]
     },
     "execution_count": 209,
     "metadata": {},
     "output_type": "execute_result"
    }
   ],
   "source": [
    "movies_df['vote_average'].corr(movies_df['profit'])"
   ]
  },
  {
   "cell_type": "markdown",
   "metadata": {},
   "source": [
    "### Calculating Correlation in Numpy"
   ]
  },
  {
   "cell_type": "code",
   "execution_count": 210,
   "metadata": {
    "collapsed": false
   },
   "outputs": [
    {
     "data": {
      "text/plain": [
       "array([[ 1.        ,  0.18306721],\n",
       "       [ 0.18306721,  1.        ]])"
      ]
     },
     "execution_count": 210,
     "metadata": {},
     "output_type": "execute_result"
    }
   ],
   "source": [
    "np.corrcoef(movies_df.vote_average,movies_df.profit)"
   ]
  },
  {
   "cell_type": "markdown",
   "metadata": {},
   "source": [
    "From the scatter plot and the calculation of the correlation coefficient above, the vote average ratings has a low degree of correlation with profits. Hence, we can safely predict that the vote average ratings has a very weak correlation with profits."
   ]
  },
  {
   "cell_type": "markdown",
   "metadata": {},
   "source": [
    "### Research Question 5\n",
    "### Does budget correlate with profits received from the movies?"
   ]
  },
  {
   "cell_type": "code",
   "execution_count": 211,
   "metadata": {
    "collapsed": false
   },
   "outputs": [
    {
     "data": {
      "image/png": "[encoded data removed]",
      "text/plain": [
       "<matplotlib.figure.Figure at 0xcb23be0>"
      ]
     },
     "metadata": {},
     "output_type": "display_data"
    }
   ],
   "source": [
    "movies_df2 =movies_df[(movies_df['budget']>0) & (movies_df['profit']>0)]\n",
    "movies_df2.plot(x='budget', y='profit',kind='scatter', color='purple', figsize=(8,8));\n",
    "plt.ylabel('Profit in billions($)');\n",
    "plt.xlabel('Budget');\n",
    "plt.title('Profits vs Budget');"
   ]
  },
  {
   "cell_type": "markdown",
   "metadata": {},
   "source": [
    "### Calculating Correlation in Pandas"
   ]
  },
  {
   "cell_type": "code",
   "execution_count": 212,
   "metadata": {
    "collapsed": false
   },
   "outputs": [
    {
     "data": {
      "text/plain": [
       "0.59133831754940169"
      ]
     },
     "execution_count": 212,
     "metadata": {},
     "output_type": "execute_result"
    }
   ],
   "source": [
    "movies_df2['budget'].corr(movies_df2['profit'])"
   ]
  },
  {
   "cell_type": "markdown",
   "metadata": {},
   "source": [
    "### Calculating Correlation in Numpy"
   ]
  },
  {
   "cell_type": "code",
   "execution_count": 213,
   "metadata": {
    "collapsed": false
   },
   "outputs": [
    {
     "data": {
      "text/plain": [
       "array([[ 1.        ,  0.59133832],\n",
       "       [ 0.59133832,  1.        ]])"
      ]
     },
     "execution_count": 213,
     "metadata": {},
     "output_type": "execute_result"
    }
   ],
   "source": [
    "np.corrcoef(movies_df2.budget,movies_df2.profit)"
   ]
  },
  {
   "cell_type": "markdown",
   "metadata": {},
   "source": [
    "From the scatter plot and the correlation coefficient calculation above, budget has a moderate degree of correlation with profits.  Hence, we can safely predict that budget has a positive medium relationship with profits."
   ]
  },
  {
   "cell_type": "markdown",
   "metadata": {},
   "source": [
    "## Conclusions\n",
    "\n",
    "In summary, I know that the demand for movies has increased tremendously over the years. It is safe to say movie production companies should continue to create more movies for consumers. When it comes to genre, it is clear that \"Drama\", \"Comedy\", \"Thriller\", \"Action\", and \"Romance\" are the most popular genres.  Movie production companies should definitely focus on producing movies in these popular genres.  The public seem to like movies coming out of these genres. \n",
    "\n",
    "Consumers are willing to spend the money to watch movies and they love it. The movie industry is definitely generating lots of revenue for the U.S. economy.  The top 10 high grossing movies generated revenues between 1.2 billion to 2.8 billion dollars. This is a phenomenal revenue growth. The U.S. film entertainment is a huge business within the U.S. and international markets. As a result, it creates jobs, revenue for small businesses, infrastructure investments and film-induced tourism.\n",
    "\n",
    "One might think that vote average ratings would have a positive impact on the profits.  However,based on Pearson's correlation coefficient statistical calculation, it had a very weak relationship. As a result, the vote average ratings does not impact the profits.  As for correlation between budget and profits, there was a positive movement together.  However, it is not a perfect positive movement. There were some movies with high budgets but low revenues and vice versa. \n",
    "\n",
    "## Limitations\n",
    "\n",
    "Removal of columns may have impacted the results of my overall analysis.  The correlations explained do not imply causations. The inferences have scope for further improvements. I am not sure if the revenues and budgets are in US currency. In addition, it also seems that there are awkward small and large dollar values in budget and revenue columns. Hence, I am not sure if the data provided is accurate and up-to-date.\n",
    "\n",
    "### Resources\n",
    "I used Stack Overflow, wblakecannon/titanic-investigation github, onpillow/Udacity-DAND-Term1 github, antra0497/Udacity--Project-Investigate-TMDB_Movies_Dataset github, Learn Python The Hard Way book, DataOptimal blog, Welcome To Data Science Demonstrated! blog, https://docs.python.org website, https://www.crybit.com website, https://pandas.pydata.org website, https://hackernoon.com website, http://www.datasciencemadesimple.com website and https://pythonhow.com website.\n"
   ]
  },
  {
   "cell_type": "code",
   "execution_count": 214,
   "metadata": {
    "collapsed": false
   },
   "outputs": [
    {
     "data": {
      "text/plain": [
       "-1"
      ]
     },
     "execution_count": 214,
     "metadata": {},
     "output_type": "execute_result"
    }
   ],
   "source": [
    "from subprocess import call\n",
    "call(['python', '-m', 'nbconvert', 'Investigate_a_Dataset.ipynb'])"
   ]
  }
 ],
 "metadata": {
  "anaconda-cloud": {},
  "kernelspec": {
   "display_name": "Python 2",
   "language": "python",
   "name": "python2"
  },
  "language_info": {
   "codemirror_mode": {
    "name": "ipython",
    "version": 2
   },
   "file_extension": ".py",
   "mimetype": "text/x-python",
   "name": "python",
   "nbconvert_exporter": "python",
   "pygments_lexer": "ipython2",
   "version": "2.7.13"
  }
 },
 "nbformat": 4,
 "nbformat_minor": 2
}
